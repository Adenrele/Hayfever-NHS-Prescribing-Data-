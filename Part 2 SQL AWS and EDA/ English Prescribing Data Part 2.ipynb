{
 "cells": [
  {
   "cell_type": "markdown",
   "metadata": {},
   "source": [
    "# NHSBSA English Prescribing Data (EPD) Analysis"
   ]
  },
  {
   "cell_type": "markdown",
   "metadata": {},
   "source": [
    "## Part 2:  SQL, AWS EC2 Instance and Exploratory Data Analysis"
   ]
  },
  {
   "cell_type": "markdown",
   "metadata": {},
   "source": [
    "### SQL for Extraction of NHS Prescribing Data"
   ]
  },
  {
   "cell_type": "markdown",
   "metadata": {},
   "source": [
    "Within part one, I found that it it would take above 20minutes depending on bandwidth to extract two datasets. This is inefficient. Here, SQL is used."
   ]
  },
  {
   "cell_type": "code",
   "execution_count": 1,
   "metadata": {},
   "outputs": [],
   "source": [
    "import pandas as pd\n",
    "import numpy as np\n",
    "\n",
    "import seaborn as sns\n",
    "import matplotlib.pyplot as plt\n",
    "%matplotlib inline\n",
    "\n",
    "import requests\n",
    "\n",
    "import warnings\n",
    "warnings.filterwarnings('ignore')  #This is required for filtering warnings when querying the CKAN API using SQL\n",
    "\n",
    "import time\n",
    "\n",
    "import scipy.stats as stats\n",
    "import pylab"
   ]
  },
  {
   "cell_type": "markdown",
   "metadata": {},
   "source": [
    "The construction of the base url within the function below as well as refinement of the function was done with assistance from this repo and its author, Adam Ivison. https://gitlab.com/nhsbsa/insight/shared/coffee-and-coding/-/blob/master/2021-05-19%20Get%20to%20grips%20with%20R%20and%20Python%20on%20our%20Open%20Data%20Portal/Python.ipynb\n",
    "\n",
    "The function below originally included AREA_TEAM_NAME however, STPs were introduced in 2020 and this resulted in changes to the column names.\n",
    "This causes the algorithm to fall into an infinite loop (see the while loop).\n",
    "As such, odp_api_query_list function will pull post_code as only geographical indicator and will then be mapped to more recent organisations/structures."
   ]
  },
  {
   "cell_type": "code",
   "execution_count": 2,
   "metadata": {},
   "outputs": [],
   "source": [
    "def odp_api_query_list(list_of_resources):\n",
    "    \n",
    "    \"\"\"\n",
    "    This function takes a list of 'resources', as termed within the CKAN API used by the NHSBSA \n",
    "    and returns a single dataframe. The features selected from the resources can be seen in the 'query'\n",
    "    variable.\n",
    "    \n",
    "    NOTE: A change in NHS organisational structure means that resources prior to April 2020 use a \"AREA TEAM\"\n",
    "    feature whilst those after use \"STP\". When querying the API those features should not be used if data is required\n",
    "    for periods of time before and after unless they are to be obtained separately.\n",
    "    \n",
    "    \"\"\"\n",
    "    \n",
    "    base_endpoint = \"https://opendata.nhsbsa.net/api/3/action\"\n",
    "    action_method = \"/datastore_search_sql?\" # SQL \n",
    "    \n",
    "    dfs=[]\n",
    "    for resource_name in list_of_resources:\n",
    "\n",
    "        query = f\"\"\"\n",
    "        SELECT \n",
    "        YEAR_MONTH,\n",
    "        PRACTICE_NAME,\n",
    "        POSTCODE,\n",
    "        BNF_CHEMICAL_SUBSTANCE,\n",
    "        CHEMICAL_SUBSTANCE_BNF_DESCR,\n",
    "        SUM(ITEMS) AS ITEMS,\n",
    "        SUM(TOTAL_QUANTITY) AS TOTAL_QUANTITY,\n",
    "        SUM(ACTUAL_COST)    AS ACTUAL_COST\n",
    "\n",
    "        FROM \n",
    "        `{resource_name}`     \n",
    "\n",
    "        WHERE\n",
    "        1=1\n",
    "        AND CHEMICAL_SUBSTANCE_BNF_DESCR IN ('Cetirizine hydrochloride', \n",
    "        'Loratadine', \n",
    "        'Fexofenadine hydrochloride', \n",
    "        'Acrivastine', \n",
    "        'Bilastine', \n",
    "        'Levocetirizine', \n",
    "        'Mizolastine', \n",
    "        'Chlorphenamine maleate', \n",
    "        'Promethazine hydrochloride')\n",
    "\n",
    "        AND BNF_DESCRIPTION NOT IN ('Promethazine 25mg/1ml solution for injection ampoules', \n",
    "        'Phenergan 25mg/1ml solution for injection ampoules')\n",
    "\n",
    "        GROUP BY\n",
    "        YEAR_MONTH,\n",
    "        PRACTICE_NAME,\n",
    "        POSTCODE,\n",
    "        BNF_CHEMICAL_SUBSTANCE,\n",
    "        CHEMICAL_SUBSTANCE_BNF_DESCR\n",
    "        \"\"\"\n",
    "        \n",
    "        #I found that the same query run multiple times may sometimes produce an error.\n",
    "        #To combat this, the API call will be repeated up to 10 times but will break earlier if 'error' is not \n",
    "        #within the response.\n",
    "        \n",
    "        num_attempts = 10\n",
    "        for _ in range(num_attempts):\n",
    "\n",
    "            # Send API call and grab the response as a json\n",
    "            response = requests.get(\n",
    "            url=(\n",
    "            base_endpoint \n",
    "            + action_method \n",
    "            + \"resource_id=\" + resource_name\n",
    "            + \"&\"\n",
    "            + \"sql=\" + requests.utils.quote(query) # Encode url\n",
    "            ),\n",
    "            verify=False\n",
    "            ).json()\n",
    "\n",
    "            if 'error' not in response:\n",
    "                break\n",
    "                \n",
    "        \n",
    "        \n",
    "        #When the data is too large, the API presents a list. This is expected for the query constructed.\n",
    "        \n",
    "        try:\n",
    "            df = pd.read_csv(response['result']['gc_urls'][0]['url'])\n",
    "\n",
    "        \n",
    "        #Where the data is small enough, it'll be provided in JSON format. Therefore, an attempt to read a url\n",
    "        #will produce an error which will be ignored in favour of an attempt to read the dictionary.\n",
    "        \n",
    "        except KeyError:\n",
    "            df = pd.DataFrame(response['result']['result']['records'])\n",
    "\n",
    "\n",
    "        dfs.append(df)\n",
    "                \n",
    "    final_df = pd.concat(dfs)\n",
    "                \n",
    "    return final_df"
   ]
  },
  {
   "cell_type": "code",
   "execution_count": 3,
   "metadata": {},
   "outputs": [],
   "source": [
    "def timefunc(function, arg, repeats = 20):\n",
    "    \n",
    "    alltime = []\n",
    "    \n",
    "    while  repeats > 0:\n",
    "        \n",
    "        \"\"\"\n",
    "        repeats: Use int value type. \n",
    "                 Unless specified, the number of repitions will be 20.\n",
    "                 More repititions will enable the collection of reliable run-times, however,\n",
    "                 this will come at the cost of time.\n",
    "                 \n",
    "        Mean, standard deviation and standard error are all calculated. For the purpose of this project,\n",
    "        only the mean will br returned in this function.\n",
    "        \"\"\"\n",
    "        \n",
    "        starttime= time.time() # record the start time\n",
    "\n",
    "        result = function(arg) # run the function and store in the variable 'result' in case result is needed.\n",
    "\n",
    "        endtime = time.time() # Record end time.\n",
    "\n",
    "        timetaken = endtime - starttime \n",
    "        \n",
    "        alltime.append(timetaken) \n",
    "        \n",
    "        repeats -=1  \n",
    "        \n",
    "    mean = np.mean(alltime) #Find the mean.\n",
    "    std = np.std(alltime) #Find the standard deviation.\n",
    "    error=std/(len(alltime)**0.5)   #Find the standard error.\n",
    "    \n",
    "    return (mean)"
   ]
  },
  {
   "cell_type": "code",
   "execution_count": 4,
   "metadata": {},
   "outputs": [],
   "source": [
    "#Below, a list of 'resources' in the same naming format used by the NHSBSA is constructed for the years required.\n",
    "years = [19,20,21]\n",
    "months = list(range(1, 13))\n",
    "resources = []\n",
    "for year in years:\n",
    "    resource_name_year = \"EPD_20\"+str(year)\n",
    "    for month in months:\n",
    "        resource_names = resource_name_year+str(month).zfill(2)\n",
    "        #The zfill function adds a 0 to the begining of a string until it reaches the specified length. \n",
    "        #A length of 2 is in line witht the name format for single digit months in NHSBSA naming format.\n",
    "        \n",
    "        resources.append(resource_names)\n",
    "\n",
    "        \n",
    "EPDs_needed = resources[:29]"
   ]
  },
  {
   "cell_type": "code",
   "execution_count": 5,
   "metadata": {},
   "outputs": [
    {
     "data": {
      "text/plain": [
       "<AxesSubplot:title={'center':'Mean Time taken to Query and Read Resources Within the CKAN API'}, xlabel='Number of Resources', ylabel='Mean Time Taken (minutes)'>"
      ]
     },
     "execution_count": 5,
     "metadata": {},
     "output_type": "execute_result"
    },
    {
     "data": {
      "image/png": "[encoded data removed]",
      "text/plain": [
       "<Figure size 720x432 with 1 Axes>"
      ]
     },
     "metadata": {
      "needs_background": "light"
     },
     "output_type": "display_data"
    }
   ],
   "source": [
    "#The time taken to query and read more than one resource at a time is recorded and plotted.\n",
    "#The time it will take to read all 29 months/resources will then be calculated using this data.\n",
    "\n",
    "x_axis = []\n",
    "y_axis = []\n",
    "\n",
    "for num in range(5)[1:]:\n",
    "    x_axis.append(num)\n",
    "    \n",
    "    timetaken = timefunc(odp_api_query_list, EPDs_needed[:num], repeats=3)\n",
    "    y_axis.append(timetaken/60)\n",
    "\n",
    "\n",
    "fig,ax1=plt.subplots(figsize=(10,6))\n",
    "\n",
    "plt.xlabel('Number of Resources', fontsize =12)\n",
    "plt.ylabel('Mean Time Taken (minutes)', fontsize =12)\n",
    "plt.title('Mean Time taken to Query and Read Resources Within the CKAN API', fontsize =14)\n",
    "\n",
    "            \n",
    "sns.lineplot(x=x_axis, y=y_axis)"
   ]
  },
  {
   "cell_type": "markdown",
   "metadata": {},
   "source": [
    "January 2019 to May 2021 = 29months (29 iterations for iterations within the odp_api_query_list function)"
   ]
  },
  {
   "cell_type": "code",
   "execution_count": 6,
   "metadata": {},
   "outputs": [
    {
     "name": "stdout",
     "output_type": "stream",
     "text": [
      "Slope is 0.26320413218604194 and intercept is 0.00926040477222867\n"
     ]
    }
   ],
   "source": [
    "slope, intercept, r, p, se = stats.linregress(x_axis, y_axis)\n",
    "print(\"Slope is {} and intercept is {}\".format(slope,intercept))"
   ]
  },
  {
   "cell_type": "code",
   "execution_count": 7,
   "metadata": {},
   "outputs": [
    {
     "name": "stdout",
     "output_type": "stream",
     "text": [
      "If this algorithm/function follows O(n) or linear-time algorithmic complexity, roughly 7.64 mintues will be needed to extract and read EPD datasets from January 2019 to June 2021.\n"
     ]
    }
   ],
   "source": [
    "y = slope*29 +intercept\n",
    "print (\"If this algorithm/function follows O(n) or linear-time algorithmic complexity, roughly {} mintues will be needed to extract and read EPD datasets from January 2019 to June 2021.\".format(y.round(2)))"
   ]
  },
  {
   "cell_type": "code",
   "execution_count": 8,
   "metadata": {},
   "outputs": [],
   "source": [
    "EPD2019_2021_oralantihistamines = odp_api_query_list(EPDs_needed)"
   ]
  },
  {
   "cell_type": "markdown",
   "metadata": {},
   "source": [
    "<b> Beware, Pandas.to_datetime does NOT repect exact formatting despite usage of the kwargs. </b>"
   ]
  },
  {
   "cell_type": "code",
   "execution_count": 9,
   "metadata": {},
   "outputs": [
    {
     "name": "stdout",
     "output_type": "stream",
     "text": [
      "<class 'pandas.core.frame.DataFrame'>\n",
      "Int64Index: 1184611 entries, 0 to 40335\n",
      "Data columns (total 8 columns):\n",
      " #   Column                        Non-Null Count    Dtype         \n",
      "---  ------                        --------------    -----         \n",
      " 0   YEAR_MONTH                    1184611 non-null  datetime64[ns]\n",
      " 1   PRACTICE_NAME                 1184611 non-null  object        \n",
      " 2   POSTCODE                      1181948 non-null  object        \n",
      " 3   BNF_CHEMICAL_SUBSTANCE        1184611 non-null  object        \n",
      " 4   CHEMICAL_SUBSTANCE_BNF_DESCR  1184611 non-null  object        \n",
      " 5   ITEMS                         1184611 non-null  int64         \n",
      " 6   TOTAL_QUANTITY                1184611 non-null  float64       \n",
      " 7   ACTUAL_COST                   1184611 non-null  float64       \n",
      "dtypes: datetime64[ns](1), float64(2), int64(1), object(4)\n",
      "memory usage: 81.3+ MB\n"
     ]
    }
   ],
   "source": [
    "EPD2019_2021_oralantihistamines.YEAR_MONTH = pd.to_datetime(EPD2019_2021_oralantihistamines.YEAR_MONTH,\n",
    "                                                            exact = True, \n",
    "                                                            format= '%Y%m', \n",
    "                                                            infer_datetime_format=False)\n",
    "\n",
    "EPD2019_2021_oralantihistamines.info()"
   ]
  },
  {
   "cell_type": "code",
   "execution_count": 10,
   "metadata": {},
   "outputs": [],
   "source": [
    "#EPD2019_2021_oralantihistamines.to_csv('EPD2019_2021_oralantihistamines.csv')"
   ]
  },
  {
   "cell_type": "markdown",
   "metadata": {},
   "source": [
    "Postcode to Output Area Hierarchy with Classifications (August 2020) Lookup in the UK. Will be used to map post codes to locations. ONS categorisation of such postcodes will also be used in EDA.\n",
    "  \n",
    "https://geoportal.statistics.gov.uk/datasets/postcode-to-output-area-hierarchy-with-classifications-august-2020-lookup-in-the-uk/about"
   ]
  },
  {
   "cell_type": "code",
   "execution_count": 11,
   "metadata": {},
   "outputs": [],
   "source": [
    "ONS_data = pd.read_csv('NSPCL_AUG20_UK_LU.csv')\n",
    "ONS_required_data = ONS_data[['ladnm','pcds','soac11nm']]\n",
    "\n",
    "New_EPD2019_2021 = EPD2019_2021_oralantihistamines.merge(ONS_required_data, \n",
    "                                                         how = 'left', \n",
    "                                                         left_on= 'POSTCODE', \n",
    "                                                         right_on ='pcds').drop(columns = ['pcds']).rename(columns ={'ladnm':'Local_Authority_District', 'soac11nm': 'Area_Classification' })"
   ]
  },
  {
   "cell_type": "code",
   "execution_count": 12,
   "metadata": {},
   "outputs": [
    {
     "data": {
      "text/html": [
       "<div>\n",
       "<style scoped>\n",
       "    .dataframe tbody tr th:only-of-type {\n",
       "        vertical-align: middle;\n",
       "    }\n",
       "\n",
       "    .dataframe tbody tr th {\n",
       "        vertical-align: top;\n",
       "    }\n",
       "\n",
       "    .dataframe thead th {\n",
       "        text-align: right;\n",
       "    }\n",
       "</style>\n",
       "<table border=\"1\" class=\"dataframe\">\n",
       "  <thead>\n",
       "    <tr style=\"text-align: right;\">\n",
       "      <th></th>\n",
       "      <th>YEAR_MONTH</th>\n",
       "      <th>PRACTICE_NAME</th>\n",
       "      <th>POSTCODE</th>\n",
       "      <th>BNF_CHEMICAL_SUBSTANCE</th>\n",
       "      <th>CHEMICAL_SUBSTANCE_BNF_DESCR</th>\n",
       "      <th>ITEMS</th>\n",
       "      <th>TOTAL_QUANTITY</th>\n",
       "      <th>ACTUAL_COST</th>\n",
       "      <th>Local_Authority_District</th>\n",
       "      <th>Area_Classification</th>\n",
       "    </tr>\n",
       "  </thead>\n",
       "  <tbody>\n",
       "    <tr>\n",
       "      <th>0</th>\n",
       "      <td>2019-01-01</td>\n",
       "      <td>DR M EHSAN</td>\n",
       "      <td>RM10 9ET</td>\n",
       "      <td>0304010AF</td>\n",
       "      <td>Bilastine</td>\n",
       "      <td>1</td>\n",
       "      <td>56.0</td>\n",
       "      <td>26.25832</td>\n",
       "      <td>Barking and Dagenham</td>\n",
       "      <td>Urban cultural mix</td>\n",
       "    </tr>\n",
       "    <tr>\n",
       "      <th>1</th>\n",
       "      <td>2019-01-01</td>\n",
       "      <td>DR A HAMID</td>\n",
       "      <td>OL11 1DN</td>\n",
       "      <td>0304010AF</td>\n",
       "      <td>Bilastine</td>\n",
       "      <td>1</td>\n",
       "      <td>30.0</td>\n",
       "      <td>14.01815</td>\n",
       "      <td>Rochdale</td>\n",
       "      <td>Urban cultural mix</td>\n",
       "    </tr>\n",
       "    <tr>\n",
       "      <th>2</th>\n",
       "      <td>2019-01-01</td>\n",
       "      <td>STAMFORD HILL GROUP PRACTICE</td>\n",
       "      <td>N16 6UA</td>\n",
       "      <td>0304010AF</td>\n",
       "      <td>Bilastine</td>\n",
       "      <td>1</td>\n",
       "      <td>60.0</td>\n",
       "      <td>28.02390</td>\n",
       "      <td>Hackney</td>\n",
       "      <td>Inner city cosmopolitan</td>\n",
       "    </tr>\n",
       "  </tbody>\n",
       "</table>\n",
       "</div>"
      ],
      "text/plain": [
       "  YEAR_MONTH                 PRACTICE_NAME  POSTCODE BNF_CHEMICAL_SUBSTANCE  \\\n",
       "0 2019-01-01                    DR M EHSAN  RM10 9ET              0304010AF   \n",
       "1 2019-01-01                    DR A HAMID  OL11 1DN              0304010AF   \n",
       "2 2019-01-01  STAMFORD HILL GROUP PRACTICE   N16 6UA              0304010AF   \n",
       "\n",
       "  CHEMICAL_SUBSTANCE_BNF_DESCR  ITEMS  TOTAL_QUANTITY  ACTUAL_COST  \\\n",
       "0                    Bilastine      1            56.0     26.25832   \n",
       "1                    Bilastine      1            30.0     14.01815   \n",
       "2                    Bilastine      1            60.0     28.02390   \n",
       "\n",
       "  Local_Authority_District      Area_Classification  \n",
       "0     Barking and Dagenham       Urban cultural mix  \n",
       "1                 Rochdale       Urban cultural mix  \n",
       "2                  Hackney  Inner city cosmopolitan  "
      ]
     },
     "execution_count": 12,
     "metadata": {},
     "output_type": "execute_result"
    }
   ],
   "source": [
    "New_EPD2019_2021.head(3)"
   ]
  },
  {
   "cell_type": "markdown",
   "metadata": {},
   "source": [
    "### Met Office Pollen Count Data\n",
    "## Information provided by the National Meteorological Library and Archive – Met Office, UK."
   ]
  },
  {
   "cell_type": "markdown",
   "metadata": {},
   "source": [
    "Below is an example of one dataset read to a Dataframe. This will help to understand the struture of the resulting dataframe and constuction of an algorithm to read them all to a suitable format."
   ]
  },
  {
   "cell_type": "code",
   "execution_count": 13,
   "metadata": {},
   "outputs": [
    {
     "data": {
      "text/html": [
       "<div>\n",
       "<style scoped>\n",
       "    .dataframe tbody tr th:only-of-type {\n",
       "        vertical-align: middle;\n",
       "    }\n",
       "\n",
       "    .dataframe tbody tr th {\n",
       "        vertical-align: top;\n",
       "    }\n",
       "\n",
       "    .dataframe thead th {\n",
       "        text-align: right;\n",
       "    }\n",
       "</style>\n",
       "<table border=\"1\" class=\"dataframe\">\n",
       "  <thead>\n",
       "    <tr style=\"text-align: right;\">\n",
       "      <th></th>\n",
       "      <th></th>\n",
       "      <th>Unnamed: 0</th>\n",
       "      <th>Date</th>\n",
       "      <th>Cory</th>\n",
       "      <th>Alnu</th>\n",
       "      <th>Sali</th>\n",
       "      <th>Betu</th>\n",
       "      <th>Frax</th>\n",
       "      <th>Ulmu</th>\n",
       "      <th>Quer</th>\n",
       "      <th>Plat</th>\n",
       "      <th>Poac</th>\n",
       "      <th>Urti</th>\n",
       "      <th>Arte</th>\n",
       "      <th>Ambr</th>\n",
       "    </tr>\n",
       "  </thead>\n",
       "  <tbody>\n",
       "    <tr>\n",
       "      <th rowspan=\"5\" valign=\"top\">INFO</th>\n",
       "      <th>0</th>\n",
       "      <td>NaN</td>\n",
       "      <td>NaT</td>\n",
       "      <td>NaN</td>\n",
       "      <td>NaN</td>\n",
       "      <td>NaN</td>\n",
       "      <td>NaN</td>\n",
       "      <td>NaN</td>\n",
       "      <td>NaN</td>\n",
       "      <td>NaN</td>\n",
       "      <td>NaN</td>\n",
       "      <td>NaN</td>\n",
       "      <td>NaN</td>\n",
       "      <td>NaN</td>\n",
       "      <td>NaN</td>\n",
       "    </tr>\n",
       "    <tr>\n",
       "      <th>1</th>\n",
       "      <td>NaN</td>\n",
       "      <td>NaT</td>\n",
       "      <td>NaN</td>\n",
       "      <td>NaN</td>\n",
       "      <td>NaN</td>\n",
       "      <td>NaN</td>\n",
       "      <td>NaN</td>\n",
       "      <td>NaN</td>\n",
       "      <td>NaN</td>\n",
       "      <td>NaN</td>\n",
       "      <td>NaN</td>\n",
       "      <td>NaN</td>\n",
       "      <td>NaN</td>\n",
       "      <td>NaN</td>\n",
       "    </tr>\n",
       "    <tr>\n",
       "      <th>2</th>\n",
       "      <td>NaN</td>\n",
       "      <td>NaT</td>\n",
       "      <td>NaN</td>\n",
       "      <td>NaN</td>\n",
       "      <td>NaN</td>\n",
       "      <td>NaN</td>\n",
       "      <td>NaN</td>\n",
       "      <td>NaN</td>\n",
       "      <td>NaN</td>\n",
       "      <td>NaN</td>\n",
       "      <td>NaN</td>\n",
       "      <td>NaN</td>\n",
       "      <td>NaN</td>\n",
       "      <td>NaN</td>\n",
       "    </tr>\n",
       "    <tr>\n",
       "      <th>3</th>\n",
       "      <td>NaN</td>\n",
       "      <td>NaT</td>\n",
       "      <td>NaN</td>\n",
       "      <td>NaN</td>\n",
       "      <td>NaN</td>\n",
       "      <td>NaN</td>\n",
       "      <td>NaN</td>\n",
       "      <td>NaN</td>\n",
       "      <td>NaN</td>\n",
       "      <td>NaN</td>\n",
       "      <td>NaN</td>\n",
       "      <td>NaN</td>\n",
       "      <td>NaN</td>\n",
       "      <td>NaN</td>\n",
       "    </tr>\n",
       "    <tr>\n",
       "      <th>4</th>\n",
       "      <td>Data provided by the National Meteorological A...</td>\n",
       "      <td>NaT</td>\n",
       "      <td>NaN</td>\n",
       "      <td>NaN</td>\n",
       "      <td>NaN</td>\n",
       "      <td>NaN</td>\n",
       "      <td>NaN</td>\n",
       "      <td>NaN</td>\n",
       "      <td>NaN</td>\n",
       "      <td>NaN</td>\n",
       "      <td>NaN</td>\n",
       "      <td>NaN</td>\n",
       "      <td>NaN</td>\n",
       "      <td>NaN</td>\n",
       "    </tr>\n",
       "    <tr>\n",
       "      <th>...</th>\n",
       "      <th>...</th>\n",
       "      <td>...</td>\n",
       "      <td>...</td>\n",
       "      <td>...</td>\n",
       "      <td>...</td>\n",
       "      <td>...</td>\n",
       "      <td>...</td>\n",
       "      <td>...</td>\n",
       "      <td>...</td>\n",
       "      <td>...</td>\n",
       "      <td>...</td>\n",
       "      <td>...</td>\n",
       "      <td>...</td>\n",
       "      <td>...</td>\n",
       "      <td>...</td>\n",
       "    </tr>\n",
       "    <tr>\n",
       "      <th rowspan=\"5\" valign=\"top\">York</th>\n",
       "      <th>153</th>\n",
       "      <td>NaN</td>\n",
       "      <td>2011-08-21</td>\n",
       "      <td>0</td>\n",
       "      <td>0.0</td>\n",
       "      <td>0.0</td>\n",
       "      <td>0.0</td>\n",
       "      <td>0.0</td>\n",
       "      <td>0.0</td>\n",
       "      <td>0.0</td>\n",
       "      <td>0.0</td>\n",
       "      <td>1.0</td>\n",
       "      <td>9.0</td>\n",
       "      <td>0.0</td>\n",
       "      <td>0.0</td>\n",
       "    </tr>\n",
       "    <tr>\n",
       "      <th>154</th>\n",
       "      <td>NaN</td>\n",
       "      <td>2011-08-22</td>\n",
       "      <td>0</td>\n",
       "      <td>0.0</td>\n",
       "      <td>0.0</td>\n",
       "      <td>0.0</td>\n",
       "      <td>0.0</td>\n",
       "      <td>0.0</td>\n",
       "      <td>0.0</td>\n",
       "      <td>0.0</td>\n",
       "      <td>1.0</td>\n",
       "      <td>9.0</td>\n",
       "      <td>0.0</td>\n",
       "      <td>0.0</td>\n",
       "    </tr>\n",
       "    <tr>\n",
       "      <th>155</th>\n",
       "      <td>NaN</td>\n",
       "      <td>2011-08-23</td>\n",
       "      <td>0</td>\n",
       "      <td>0.0</td>\n",
       "      <td>0.0</td>\n",
       "      <td>0.0</td>\n",
       "      <td>0.0</td>\n",
       "      <td>0.0</td>\n",
       "      <td>1.0</td>\n",
       "      <td>0.0</td>\n",
       "      <td>0.0</td>\n",
       "      <td>4.0</td>\n",
       "      <td>0.0</td>\n",
       "      <td>0.0</td>\n",
       "    </tr>\n",
       "    <tr>\n",
       "      <th>156</th>\n",
       "      <td>NaN</td>\n",
       "      <td>2011-08-24</td>\n",
       "      <td>0</td>\n",
       "      <td>0.0</td>\n",
       "      <td>0.0</td>\n",
       "      <td>0.0</td>\n",
       "      <td>0.0</td>\n",
       "      <td>0.0</td>\n",
       "      <td>0.0</td>\n",
       "      <td>0.0</td>\n",
       "      <td>0.0</td>\n",
       "      <td>3.0</td>\n",
       "      <td>0.0</td>\n",
       "      <td>0.0</td>\n",
       "    </tr>\n",
       "    <tr>\n",
       "      <th>157</th>\n",
       "      <td>NaN</td>\n",
       "      <td>2011-08-25</td>\n",
       "      <td>0</td>\n",
       "      <td>0.0</td>\n",
       "      <td>0.0</td>\n",
       "      <td>0.0</td>\n",
       "      <td>0.0</td>\n",
       "      <td>0.0</td>\n",
       "      <td>0.0</td>\n",
       "      <td>0.0</td>\n",
       "      <td>0.0</td>\n",
       "      <td>1.0</td>\n",
       "      <td>0.0</td>\n",
       "      <td>0.0</td>\n",
       "    </tr>\n",
       "  </tbody>\n",
       "</table>\n",
       "<p>2459 rows × 14 columns</p>\n",
       "</div>"
      ],
      "text/plain": [
       "                                                 Unnamed: 0       Date Cory  \\\n",
       "INFO 0                                                  NaN        NaT  NaN   \n",
       "     1                                                  NaN        NaT  NaN   \n",
       "     2                                                  NaN        NaT  NaN   \n",
       "     3                                                  NaN        NaT  NaN   \n",
       "     4    Data provided by the National Meteorological A...        NaT  NaN   \n",
       "...                                                     ...        ...  ...   \n",
       "York 153                                                NaN 2011-08-21    0   \n",
       "     154                                                NaN 2011-08-22    0   \n",
       "     155                                                NaN 2011-08-23    0   \n",
       "     156                                                NaN 2011-08-24    0   \n",
       "     157                                                NaN 2011-08-25    0   \n",
       "\n",
       "          Alnu  Sali  Betu  Frax  Ulmu  Quer  Plat  Poac  Urti  Arte  Ambr  \n",
       "INFO 0     NaN   NaN   NaN   NaN   NaN   NaN   NaN   NaN   NaN   NaN   NaN  \n",
       "     1     NaN   NaN   NaN   NaN   NaN   NaN   NaN   NaN   NaN   NaN   NaN  \n",
       "     2     NaN   NaN   NaN   NaN   NaN   NaN   NaN   NaN   NaN   NaN   NaN  \n",
       "     3     NaN   NaN   NaN   NaN   NaN   NaN   NaN   NaN   NaN   NaN   NaN  \n",
       "     4     NaN   NaN   NaN   NaN   NaN   NaN   NaN   NaN   NaN   NaN   NaN  \n",
       "...        ...   ...   ...   ...   ...   ...   ...   ...   ...   ...   ...  \n",
       "York 153   0.0   0.0   0.0   0.0   0.0   0.0   0.0   1.0   9.0   0.0   0.0  \n",
       "     154   0.0   0.0   0.0   0.0   0.0   0.0   0.0   1.0   9.0   0.0   0.0  \n",
       "     155   0.0   0.0   0.0   0.0   0.0   1.0   0.0   0.0   4.0   0.0   0.0  \n",
       "     156   0.0   0.0   0.0   0.0   0.0   0.0   0.0   0.0   3.0   0.0   0.0  \n",
       "     157   0.0   0.0   0.0   0.0   0.0   0.0   0.0   0.0   1.0   0.0   0.0  \n",
       "\n",
       "[2459 rows x 14 columns]"
      ]
     },
     "execution_count": 13,
     "metadata": {},
     "output_type": "execute_result"
    }
   ],
   "source": [
    "df = pd.read_excel('PollenStationData2011.xlsx',\n",
    "                   sheet_name =None)\n",
    "\n",
    "df_new = pd.concat(df)\n",
    "df_new"
   ]
  },
  {
   "cell_type": "code",
   "execution_count": 14,
   "metadata": {},
   "outputs": [],
   "source": [
    "#List of excel files containing pollen count provided by the MET Office.\n",
    "Met_Pollen_Data = ['PollenStationData2011.xlsx',\n",
    "                   'PollenStationData2012.xlsx', \n",
    "                   'PollenStationData2013.xlsx', \n",
    "                   'PollenStationData2014.xlsx', \n",
    "                   'PollenStationData2015.xlsx', \n",
    "                   'PollenStationData2016.xlsx',\n",
    "                   'PollenStationData2017.xlsx', \n",
    "                   'PollenStationData2018.xlsx', \n",
    "                   'PollenStationData2019.xlsx',\n",
    "                   'PollenStationData2020.xlsx', \n",
    "                   'PollenStationData2021vs30June.xlsx']\n",
    "\n",
    "#A dictionary that will be used to rename the columns in the MET Office Excel files.\n",
    "Pollen_types = {'Cory':'Hazel_Pollen',\n",
    "                'Alnu': 'Alder_Pollen',\n",
    "                'Sali':'Willow_Pollen',\n",
    "                'Betu': 'Birch_Pollen',\n",
    "                'Frax': 'Ash_Pollen',\n",
    "                'Ulmu':'Elm_Pollen',\n",
    "                'Quer':'Oak_Pollen',\n",
    "                'Plat':'Plane_(tree)_Pollen',\n",
    "                'Poac':'Grass_Pollen',\n",
    "                'Urti':'Nettle_Pollen',\n",
    "                'Arte':'Mugwort_Pollen',\n",
    "                'Ambr': 'Ragweed_Pollen'}\n",
    "\n",
    "\n",
    "#Obtain the list of locations within all of the met office spreadsheets.\n",
    "#This can not be done using one dataset as the location has changed over time.\n",
    "\n",
    "def met_office_locations(list_of_met_datasets):    \n",
    "    dfs=[]\n",
    "    for pollen_data in list_of_met_datasets:\n",
    "\n",
    "        #This first reading of a excel file with multiple sheets produces a dictionary.\n",
    "        df = pd.read_excel(pollen_data, sheet_name =None)\n",
    "\n",
    "        #Each key is a sheet name and each sheet name is the location in which pollen count data is collected.\n",
    "        for location in list(df.keys()):\n",
    "            df[location]['Location']= location\n",
    "\n",
    "        #Concatenate each dictionary to form a dataframe\n",
    "        df_new = pd.concat(df)\n",
    "\n",
    "        #Append each dataframe to the originally empty list, dfs.\n",
    "        dfs.append(df_new)\n",
    "\n",
    "        #Concatenate all the dataframes to form one final dataframe.\n",
    "        met_pollen_df =pd.concat(dfs)\n",
    "\n",
    "        #Remove all rows in which the value in the location field is 'INFO'\n",
    "        met_pollen_df = met_pollen_df[met_pollen_df['Location'] !='INFO']\n",
    "        \n",
    "        locations_list = list(met_pollen_df['Location'].unique())\n",
    "        \n",
    "    return locations_list\n",
    "\n",
    "#List of locations is in the collection_locations_list. This will form the keys.\n",
    "collection_locations_list = met_office_locations(Met_Pollen_Data)\n",
    "\n",
    "#This list will form the values.\n",
    "location_number = list(range(1,200))\n",
    "\n",
    "#Dictionary which will be used to replace values in the following cell. \n",
    "#The .zip() function has been used to turn the two lists from above into a dictionary\n",
    "\n",
    "collection_locations = dict(zip(collection_locations_list, location_number))\n",
    "\n",
    "#Key-Value pairs swapped to undo or redo replacements.\n",
    "inverse_collection_locations = {v: k for k, v in collection_locations.items()}"
   ]
  },
  {
   "cell_type": "code",
   "execution_count": 15,
   "metadata": {},
   "outputs": [],
   "source": [
    "dfs=[]\n",
    "for pollen_data in Met_Pollen_Data:\n",
    "    \n",
    "    #Repeat steps from the function above to prepare the final Met office pollen data dataframe.\n",
    "    #Here, there is no need to obtain list of unique locations to make the dictionary above.\n",
    "    \n",
    "    df = pd.read_excel(pollen_data, sheet_name =None)\n",
    "    \n",
    "    for location in list(df.keys()):\n",
    "        df[location]['Location']= location\n",
    "    \n",
    "    \n",
    "    df_new = pd.concat(df)\n",
    "\n",
    "    dfs.append(df_new)\n",
    "\n",
    "    met_pollen_df =pd.concat(dfs)\n",
    "\n",
    "\n",
    "#Remove all rows in which the value in the location field is 'INFO'\n",
    "met_pollen_df = met_pollen_df[met_pollen_df['Location'] !='INFO']\n",
    "\n",
    "#Set the index to the 'Date column'. This will be undone and is to prevent the conversion of the column to int later.\n",
    "met_pollen_df = met_pollen_df.set_index('Date')\n",
    "\n",
    "#Rename all pollen values with the dictionary created above using information from the 'INFO' sheet.\n",
    "met_pollen_df.rename(mapper=Pollen_types, axis=1, inplace=True)\n",
    "\n",
    "#Cheange location values to int using the dictionary above to avoid loss when to_numeric is used.\n",
    "met_pollen_df = met_pollen_df.replace(collection_locations)\n",
    "\n",
    "#-1 values will negatively impact calculations. Replace with 0. See 'INFO' sheet for meaning of -1.\n",
    "met_pollen_df = met_pollen_df.replace({-1:0})\n",
    "\n",
    "#GConvert all str values to numeric.\n",
    "#Fill all NaN with 0 from string which could not be converted.\n",
    "met_pollen_df = met_pollen_df.apply(pd.to_numeric, errors='coerce').fillna(value= 0, axis = 1)\n",
    "\n",
    "#Change location values back to original string using the inverse of the original dictionary above.\n",
    "met_pollen_df.Location = met_pollen_df['Location'].replace(inverse_collection_locations)\n",
    "\n",
    "#Reset the index, the 'Date' field is not suitable as there are duplicates. Is not time-series.\n",
    "met_pollen_df = met_pollen_df.reset_index()\n",
    "\n",
    "#Ensure the 'Date' column is in datetime format.\n",
    "met_pollen_df['Date'] = pd.to_datetime(met_pollen_df['Date'])\n",
    "\n",
    "#Drop the column created from the 'INFO' sheet.\n",
    "met_pollen_df = met_pollen_df.drop(['Unnamed: 0'],axis=1)"
   ]
  },
  {
   "cell_type": "markdown",
   "metadata": {},
   "source": [
    "### Exploratory Data Analysis (with a focus on EPD)"
   ]
  },
  {
   "cell_type": "code",
   "execution_count": 16,
   "metadata": {},
   "outputs": [],
   "source": [
    "EPD_2019 = New_EPD2019_2021[New_EPD2019_2021['YEAR_MONTH']<= '2019-12-31'] #Before the COVID19 pandemic.\n",
    "EPD_2021 = New_EPD2019_2021[New_EPD2019_2021['YEAR_MONTH']>= '2021-01-01'] #Data relevant to the present.\n",
    "EPD_2020 = New_EPD2019_2021[(New_EPD2019_2021['YEAR_MONTH']<= '2020-12-31') &(New_EPD2019_2021['YEAR_MONTH']>= '2020-01-01')]\n",
    "\n",
    "pollen_2019_2021 = met_pollen_df[(met_pollen_df[\"Date\"]>='2019-01-01') &(met_pollen_df[\"Date\"]<='2021-05-31') ]"
   ]
  },
  {
   "cell_type": "markdown",
   "metadata": {},
   "source": [
    "Overall prescribing of antihistamines by total quantity overllapped with pollen counts."
   ]
  },
  {
   "cell_type": "code",
   "execution_count": 17,
   "metadata": {},
   "outputs": [
    {
     "data": {
      "text/plain": [
       "<matplotlib.legend.Legend at 0x7ffd5a038c90>"
      ]
     },
     "execution_count": 17,
     "metadata": {},
     "output_type": "execute_result"
    },
    {
     "data": {
      "image/png": "[encoded data removed]",
      "text/plain": [
       "<Figure size 1080x576 with 2 Axes>"
      ]
     },
     "metadata": {
      "needs_background": "light"
     },
     "output_type": "display_data"
    }
   ],
   "source": [
    "sum_all_EPD = New_EPD2019_2021.groupby(by=['YEAR_MONTH']).sum()\n",
    "sum_EPD_2019 = EPD_2019.groupby(by=['YEAR_MONTH']).sum()\n",
    "sum_EPD_2020 = EPD_2020.groupby(by=['YEAR_MONTH']).sum()\n",
    "sum_EPD_2021 = EPD_2021.groupby(by=['YEAR_MONTH']).sum()\n",
    "\n",
    "fig,ax1=plt.subplots(figsize=(15,8))\n",
    "\n",
    "sns.lineplot(data=sum_EPD_2019,x= sum_EPD_2019.index,y='TOTAL_QUANTITY')\n",
    "sns.lineplot(data=sum_EPD_2020,x= sum_EPD_2020.index,y='TOTAL_QUANTITY')\n",
    "sns.lineplot(data=sum_EPD_2021,x= sum_EPD_2021.index,y='TOTAL_QUANTITY')\n",
    "plt.legend(labels=['Sum of oral antihistamines (2019)',\n",
    "                   'Sum of oral antihistamines (2020)',\n",
    "                   'Sum of oral antihistamines (2021)',\n",
    "                   ], loc= 'upper right')\n",
    "\n",
    "plt.xlabel('Date (year-month)', fontsize=14)\n",
    "plt.ylabel('Sum of oral antihistamines prescribed (x 1,000,000)', fontsize=14)\n",
    "plt.title('Total Quantity of Oral Antihistamines Dispensed Overalayed with the highest Pollen Count each Day'\n",
    "          ,fontsize = 16)\n",
    "\n",
    "ax2 = ax1.twinx()\n",
    "\n",
    "sns.lineplot(data = pollen_2019_2021, x = pollen_2019_2021.Date, y= pollen_2019_2021.max(axis=1), color='grey')\n",
    "plt.ylabel('Highest Pollen Count', fontsize=14 )\n",
    "plt.legend(labels=['Highest recorded pollen count per day'], loc= 'upper left')"
   ]
  },
  {
   "cell_type": "markdown",
   "metadata": {},
   "source": [
    "### Distribution\n",
    "\n",
    "Prescribing quantities appear to be normally distributed over each year. Will confirm using a probability plot (visual) and shapiro-wilk test."
   ]
  },
  {
   "cell_type": "code",
   "execution_count": 18,
   "metadata": {},
   "outputs": [
    {
     "data": {
      "text/plain": [
       "Text(0.5, 1.0, 'Probability Plot of Sum of Total Quantities')"
      ]
     },
     "execution_count": 18,
     "metadata": {},
     "output_type": "execute_result"
    },
    {
     "data": {
      "image/png": "[encoded data removed]",
      "text/plain": [
       "<Figure size 432x288 with 1 Axes>"
      ]
     },
     "metadata": {
      "needs_background": "light"
     },
     "output_type": "display_data"
    }
   ],
   "source": [
    "stats.probplot(sum_EPD_2019['TOTAL_QUANTITY'], dist = \"norm\", plot =pylab)\n",
    "plt.title(label ='Probability Plot of Sum of Total Quantities')"
   ]
  },
  {
   "cell_type": "code",
   "execution_count": 19,
   "metadata": {},
   "outputs": [
    {
     "data": {
      "text/plain": [
       "(0.9181531667709351, 0.2709859609603882)"
      ]
     },
     "execution_count": 19,
     "metadata": {},
     "output_type": "execute_result"
    }
   ],
   "source": [
    "stats.shapiro(sum_EPD_2019['TOTAL_QUANTITY'])"
   ]
  },
  {
   "cell_type": "markdown",
   "metadata": {},
   "source": [
    "P value is above significance level of 0.05, the data has a <b>normal distribution</b>."
   ]
  },
  {
   "cell_type": "markdown",
   "metadata": {},
   "source": [
    "#### Test for Significance (cost)"
   ]
  },
  {
   "cell_type": "markdown",
   "metadata": {},
   "source": [
    "### Correlation\n",
    "\n",
    "Overall and rolling correlation will be quantified using Pearsons R."
   ]
  },
  {
   "cell_type": "code",
   "execution_count": 20,
   "metadata": {},
   "outputs": [
    {
     "data": {
      "text/html": [
       "<div>\n",
       "<style scoped>\n",
       "    .dataframe tbody tr th:only-of-type {\n",
       "        vertical-align: middle;\n",
       "    }\n",
       "\n",
       "    .dataframe tbody tr th {\n",
       "        vertical-align: top;\n",
       "    }\n",
       "\n",
       "    .dataframe thead th {\n",
       "        text-align: right;\n",
       "    }\n",
       "</style>\n",
       "<table border=\"1\" class=\"dataframe\">\n",
       "  <thead>\n",
       "    <tr style=\"text-align: right;\">\n",
       "      <th></th>\n",
       "      <th>ITEMS</th>\n",
       "      <th>TOTAL_QUANTITY</th>\n",
       "      <th>ACTUAL_COST</th>\n",
       "    </tr>\n",
       "    <tr>\n",
       "      <th>YEAR_MONTH</th>\n",
       "      <th></th>\n",
       "      <th></th>\n",
       "      <th></th>\n",
       "    </tr>\n",
       "  </thead>\n",
       "  <tbody>\n",
       "    <tr>\n",
       "      <th>2019-01</th>\n",
       "      <td>930877</td>\n",
       "      <td>45991630.0</td>\n",
       "      <td>1.655346e+06</td>\n",
       "    </tr>\n",
       "    <tr>\n",
       "      <th>2019-02</th>\n",
       "      <td>860403</td>\n",
       "      <td>42778978.0</td>\n",
       "      <td>1.548874e+06</td>\n",
       "    </tr>\n",
       "    <tr>\n",
       "      <th>2019-03</th>\n",
       "      <td>994541</td>\n",
       "      <td>50795103.0</td>\n",
       "      <td>1.823283e+06</td>\n",
       "    </tr>\n",
       "    <tr>\n",
       "      <th>2019-04</th>\n",
       "      <td>1074359</td>\n",
       "      <td>55722031.0</td>\n",
       "      <td>2.056091e+06</td>\n",
       "    </tr>\n",
       "    <tr>\n",
       "      <th>2019-05</th>\n",
       "      <td>1191049</td>\n",
       "      <td>63140086.0</td>\n",
       "      <td>2.308333e+06</td>\n",
       "    </tr>\n",
       "  </tbody>\n",
       "</table>\n",
       "</div>"
      ],
      "text/plain": [
       "              ITEMS  TOTAL_QUANTITY   ACTUAL_COST\n",
       "YEAR_MONTH                                       \n",
       "2019-01      930877      45991630.0  1.655346e+06\n",
       "2019-02      860403      42778978.0  1.548874e+06\n",
       "2019-03      994541      50795103.0  1.823283e+06\n",
       "2019-04     1074359      55722031.0  2.056091e+06\n",
       "2019-05     1191049      63140086.0  2.308333e+06"
      ]
     },
     "execution_count": 20,
     "metadata": {},
     "output_type": "execute_result"
    }
   ],
   "source": [
    "sum_all_EPD = New_EPD2019_2021.groupby(New_EPD2019_2021.YEAR_MONTH.dt.to_period('M')).agg('sum')\n",
    "sum_all_EPD.head()"
   ]
  },
  {
   "cell_type": "code",
   "execution_count": 21,
   "metadata": {
    "scrolled": true
   },
   "outputs": [
    {
     "data": {
      "text/plain": [
       "Date\n",
       "2019-03    328.0\n",
       "2019-04    984.0\n",
       "2019-05    344.0\n",
       "2019-06    468.0\n",
       "2019-07    496.0\n",
       "Freq: M, dtype: float64"
      ]
     },
     "execution_count": 21,
     "metadata": {},
     "output_type": "execute_result"
    }
   ],
   "source": [
    "max_pollen_months = pollen_2019_2021.groupby(pollen_2019_2021.Date.dt.to_period('M')).agg('max').max(axis=1)\n",
    "max_pollen_months.head()"
   ]
  },
  {
   "cell_type": "code",
   "execution_count": 22,
   "metadata": {},
   "outputs": [
    {
     "data": {
      "text/html": [
       "<div>\n",
       "<style scoped>\n",
       "    .dataframe tbody tr th:only-of-type {\n",
       "        vertical-align: middle;\n",
       "    }\n",
       "\n",
       "    .dataframe tbody tr th {\n",
       "        vertical-align: top;\n",
       "    }\n",
       "\n",
       "    .dataframe thead th {\n",
       "        text-align: right;\n",
       "    }\n",
       "</style>\n",
       "<table border=\"1\" class=\"dataframe\">\n",
       "  <thead>\n",
       "    <tr style=\"text-align: right;\">\n",
       "      <th></th>\n",
       "      <th>max_pollen_count</th>\n",
       "      <th>ITEMS</th>\n",
       "      <th>TOTAL_QUANTITY</th>\n",
       "      <th>ACTUAL_COST</th>\n",
       "    </tr>\n",
       "    <tr>\n",
       "      <th>Date</th>\n",
       "      <th></th>\n",
       "      <th></th>\n",
       "      <th></th>\n",
       "      <th></th>\n",
       "    </tr>\n",
       "  </thead>\n",
       "  <tbody>\n",
       "    <tr>\n",
       "      <th>2019-03</th>\n",
       "      <td>328.0</td>\n",
       "      <td>994541</td>\n",
       "      <td>50795103.0</td>\n",
       "      <td>1.823283e+06</td>\n",
       "    </tr>\n",
       "    <tr>\n",
       "      <th>2019-04</th>\n",
       "      <td>984.0</td>\n",
       "      <td>1074359</td>\n",
       "      <td>55722031.0</td>\n",
       "      <td>2.056091e+06</td>\n",
       "    </tr>\n",
       "    <tr>\n",
       "      <th>2019-05</th>\n",
       "      <td>344.0</td>\n",
       "      <td>1191049</td>\n",
       "      <td>63140086.0</td>\n",
       "      <td>2.308333e+06</td>\n",
       "    </tr>\n",
       "    <tr>\n",
       "      <th>2019-06</th>\n",
       "      <td>468.0</td>\n",
       "      <td>1166843</td>\n",
       "      <td>62161213.0</td>\n",
       "      <td>2.308347e+06</td>\n",
       "    </tr>\n",
       "    <tr>\n",
       "      <th>2019-07</th>\n",
       "      <td>496.0</td>\n",
       "      <td>1249236</td>\n",
       "      <td>67195649.0</td>\n",
       "      <td>2.406458e+06</td>\n",
       "    </tr>\n",
       "  </tbody>\n",
       "</table>\n",
       "</div>"
      ],
      "text/plain": [
       "         max_pollen_count    ITEMS  TOTAL_QUANTITY   ACTUAL_COST\n",
       "Date                                                            \n",
       "2019-03             328.0   994541      50795103.0  1.823283e+06\n",
       "2019-04             984.0  1074359      55722031.0  2.056091e+06\n",
       "2019-05             344.0  1191049      63140086.0  2.308333e+06\n",
       "2019-06             468.0  1166843      62161213.0  2.308347e+06\n",
       "2019-07             496.0  1249236      67195649.0  2.406458e+06"
      ]
     },
     "execution_count": 22,
     "metadata": {},
     "output_type": "execute_result"
    }
   ],
   "source": [
    "months_pollen_EPD = pd.merge(max_pollen_months.rename('max_pollen_count'),\n",
    "                               sum_all_EPD,\n",
    "                               how=\"left\",\n",
    "                               left_index=True,\n",
    "                               right_index=True,\n",
    "                               )\n",
    "\n",
    "months_pollen_EPD.head()"
   ]
  },
  {
   "cell_type": "markdown",
   "metadata": {},
   "source": [
    "#### Overall Correlation"
   ]
  },
  {
   "cell_type": "code",
   "execution_count": 23,
   "metadata": {},
   "outputs": [
    {
     "name": "stdout",
     "output_type": "stream",
     "text": [
      "Scipy computed Pearson r: 0.22345247094226717 and p-value: 0.3886220256099962\n"
     ]
    }
   ],
   "source": [
    "var_1 = months_pollen_EPD.max_pollen_count\n",
    "var_2 = months_pollen_EPD.TOTAL_QUANTITY\n",
    "\n",
    "r, p = stats.pearsonr(var_1, var_2)\n",
    "print(f\"Scipy computed Pearson r: {r} and p-value: {p}\")"
   ]
  },
  {
   "cell_type": "markdown",
   "metadata": {},
   "source": [
    "#### Rolling correlation"
   ]
  },
  {
   "cell_type": "code",
   "execution_count": 24,
   "metadata": {},
   "outputs": [
    {
     "data": {
      "text/plain": [
       "Text(0.5, 0.98, 'Rolling window correlation')"
      ]
     },
     "execution_count": 24,
     "metadata": {},
     "output_type": "execute_result"
    },
    {
     "data": {
      "image/png": "[encoded data removed]",
      "text/plain": [
       "<Figure size 864x288 with 1 Axes>"
      ]
     },
     "metadata": {
      "needs_background": "light"
     },
     "output_type": "display_data"
    }
   ],
   "source": [
    "r_window_size = 4\n",
    "\n",
    "\n",
    "rolling_r = var_1.rolling(window=r_window_size, center=True).corr(var_2)\n",
    "fig,ax=plt.subplots(figsize=(12,4))\n",
    "\n",
    "rolling_r.plot()\n",
    "ax.set(xlabel='Frame',ylabel='Pearson r')\n",
    "plt.suptitle(\"Rolling window correlation\")"
   ]
  },
  {
   "cell_type": "markdown",
   "metadata": {},
   "source": [
    "### 2021 so far..."
   ]
  },
  {
   "cell_type": "markdown",
   "metadata": {},
   "source": [
    "### Medication: Quantity and Cost"
   ]
  },
  {
   "cell_type": "code",
   "execution_count": 25,
   "metadata": {},
   "outputs": [
    {
     "data": {
      "text/html": [
       "<div>\n",
       "<style scoped>\n",
       "    .dataframe tbody tr th:only-of-type {\n",
       "        vertical-align: middle;\n",
       "    }\n",
       "\n",
       "    .dataframe tbody tr th {\n",
       "        vertical-align: top;\n",
       "    }\n",
       "\n",
       "    .dataframe thead th {\n",
       "        text-align: right;\n",
       "    }\n",
       "</style>\n",
       "<table border=\"1\" class=\"dataframe\">\n",
       "  <thead>\n",
       "    <tr style=\"text-align: right;\">\n",
       "      <th></th>\n",
       "      <th>CHEMICAL_SUBSTANCE_BNF_DESCR</th>\n",
       "      <th>ITEMS</th>\n",
       "      <th>TOTAL_QUANTITY</th>\n",
       "      <th>ACTUAL_COST</th>\n",
       "    </tr>\n",
       "  </thead>\n",
       "  <tbody>\n",
       "    <tr>\n",
       "      <th>0</th>\n",
       "      <td>Fexofenadine hydrochloride</td>\n",
       "      <td>1720687</td>\n",
       "      <td>66969119.0</td>\n",
       "      <td>5.864979e+06</td>\n",
       "    </tr>\n",
       "    <tr>\n",
       "      <th>1</th>\n",
       "      <td>Cetirizine hydrochloride</td>\n",
       "      <td>1629161</td>\n",
       "      <td>92103775.0</td>\n",
       "      <td>2.304251e+06</td>\n",
       "    </tr>\n",
       "    <tr>\n",
       "      <th>2</th>\n",
       "      <td>Promethazine hydrochloride</td>\n",
       "      <td>756828</td>\n",
       "      <td>32219082.0</td>\n",
       "      <td>2.078198e+06</td>\n",
       "    </tr>\n",
       "    <tr>\n",
       "      <th>3</th>\n",
       "      <td>Chlorphenamine maleate</td>\n",
       "      <td>340036</td>\n",
       "      <td>31767280.0</td>\n",
       "      <td>1.398357e+06</td>\n",
       "    </tr>\n",
       "    <tr>\n",
       "      <th>4</th>\n",
       "      <td>Loratadine</td>\n",
       "      <td>666111</td>\n",
       "      <td>28265304.0</td>\n",
       "      <td>9.277284e+05</td>\n",
       "    </tr>\n",
       "    <tr>\n",
       "      <th>5</th>\n",
       "      <td>Acrivastine</td>\n",
       "      <td>19523</td>\n",
       "      <td>1456649.0</td>\n",
       "      <td>3.614209e+05</td>\n",
       "    </tr>\n",
       "    <tr>\n",
       "      <th>6</th>\n",
       "      <td>Levocetirizine</td>\n",
       "      <td>24572</td>\n",
       "      <td>1320089.0</td>\n",
       "      <td>1.513846e+05</td>\n",
       "    </tr>\n",
       "    <tr>\n",
       "      <th>7</th>\n",
       "      <td>Mizolastine</td>\n",
       "      <td>9519</td>\n",
       "      <td>360888.0</td>\n",
       "      <td>7.788905e+04</td>\n",
       "    </tr>\n",
       "    <tr>\n",
       "      <th>8</th>\n",
       "      <td>Bilastine</td>\n",
       "      <td>723</td>\n",
       "      <td>33457.0</td>\n",
       "      <td>6.265092e+03</td>\n",
       "    </tr>\n",
       "  </tbody>\n",
       "</table>\n",
       "</div>"
      ],
      "text/plain": [
       "  CHEMICAL_SUBSTANCE_BNF_DESCR    ITEMS  TOTAL_QUANTITY   ACTUAL_COST\n",
       "0   Fexofenadine hydrochloride  1720687      66969119.0  5.864979e+06\n",
       "1     Cetirizine hydrochloride  1629161      92103775.0  2.304251e+06\n",
       "2   Promethazine hydrochloride   756828      32219082.0  2.078198e+06\n",
       "3       Chlorphenamine maleate   340036      31767280.0  1.398357e+06\n",
       "4                   Loratadine   666111      28265304.0  9.277284e+05\n",
       "5                  Acrivastine    19523       1456649.0  3.614209e+05\n",
       "6               Levocetirizine    24572       1320089.0  1.513846e+05\n",
       "7                  Mizolastine     9519        360888.0  7.788905e+04\n",
       "8                    Bilastine      723         33457.0  6.265092e+03"
      ]
     },
     "execution_count": 25,
     "metadata": {},
     "output_type": "execute_result"
    }
   ],
   "source": [
    "drugs_2021 = EPD_2021.groupby(by='CHEMICAL_SUBSTANCE_BNF_DESCR').sum().sort_values(by='ACTUAL_COST', ascending=False).reset_index()\n",
    "drugs_2021"
   ]
  },
  {
   "cell_type": "code",
   "execution_count": 26,
   "metadata": {},
   "outputs": [
    {
     "data": {
      "text/html": [
       "<div>\n",
       "<style scoped>\n",
       "    .dataframe tbody tr th:only-of-type {\n",
       "        vertical-align: middle;\n",
       "    }\n",
       "\n",
       "    .dataframe tbody tr th {\n",
       "        vertical-align: top;\n",
       "    }\n",
       "\n",
       "    .dataframe thead th {\n",
       "        text-align: right;\n",
       "    }\n",
       "</style>\n",
       "<table border=\"1\" class=\"dataframe\">\n",
       "  <thead>\n",
       "    <tr style=\"text-align: right;\">\n",
       "      <th></th>\n",
       "      <th>TOTAL_QUANTITY</th>\n",
       "      <th>ACTUAL_COST</th>\n",
       "    </tr>\n",
       "  </thead>\n",
       "  <tbody>\n",
       "    <tr>\n",
       "      <th>1</th>\n",
       "      <td>92103775.0</td>\n",
       "      <td>2304251.01</td>\n",
       "    </tr>\n",
       "  </tbody>\n",
       "</table>\n",
       "</div>"
      ],
      "text/plain": [
       "   TOTAL_QUANTITY  ACTUAL_COST\n",
       "1      92103775.0   2304251.01"
      ]
     },
     "execution_count": 26,
     "metadata": {},
     "output_type": "execute_result"
    }
   ],
   "source": [
    "drugs_2021[drugs_2021['CHEMICAL_SUBSTANCE_BNF_DESCR']=='Cetirizine hydrochloride'][['TOTAL_QUANTITY','ACTUAL_COST']].round(2)"
   ]
  },
  {
   "cell_type": "code",
   "execution_count": 27,
   "metadata": {},
   "outputs": [],
   "source": [
    "drugs_2021.to_csv('For_Tableau.csv')"
   ]
  },
  {
   "cell_type": "markdown",
   "metadata": {},
   "source": [
    "The boxplot below shows the spread of prescribing quantity by drug. \n",
    "Presence of outliers at higher total quantity values (negative skew) will make the mean more biased towards higher values. Median will be more suitable measure of central tendency."
   ]
  },
  {
   "cell_type": "code",
   "execution_count": 28,
   "metadata": {},
   "outputs": [
    {
     "data": {
      "text/plain": [
       "<matplotlib.legend.Legend at 0x7ffcf531a910>"
      ]
     },
     "execution_count": 28,
     "metadata": {},
     "output_type": "execute_result"
    },
    {
     "data": {
      "image/png": "[encoded data removed]",
      "text/plain": [
       "<Figure size 864x576 with 1 Axes>"
      ]
     },
     "metadata": {
      "needs_background": "light"
     },
     "output_type": "display_data"
    }
   ],
   "source": [
    "drugs_2021.plot(x='CHEMICAL_SUBSTANCE_BNF_DESCR',\n",
    "                y=['TOTAL_QUANTITY','ACTUAL_COST'],\n",
    "                kind='bar',\n",
    "                width=0.9,\n",
    "               figsize=(12,8)\n",
    "               )\n",
    "plt.xlabel('Drug Name', fontsize=14)\n",
    "plt.ylabel('Quantity (blue) and Cost (orange) (x 10,000,000)', fontsize=14)\n",
    "plt.title('Total Quantity and Total Cost of Oral Antihistamines Dispensed 2021 (Jan - May)'\n",
    "          ,fontsize = 16)\n",
    "\n",
    "plt.xticks(fontsize=12)\n",
    "\n",
    "plt.legend(labels=['Total Quantity', 'Total Cost (£)'])\n"
   ]
  },
  {
   "cell_type": "code",
   "execution_count": 30,
   "metadata": {},
   "outputs": [
    {
     "data": {
      "text/plain": [
       "29235249.52"
      ]
     },
     "execution_count": 30,
     "metadata": {},
     "output_type": "execute_result"
    }
   ],
   "source": [
    "EPD_2020_May = EPD_2020[EPD_2020['YEAR_MONTH']< '2021-06-01']\n",
    "drugs_2020_may = EPD_2020_May.groupby(by='CHEMICAL_SUBSTANCE_BNF_DESCR').sum().sort_values(by='ACTUAL_COST', ascending=False).reset_index()\n",
    "drugs_2020_may['ACTUAL_COST'].sum().round(2)"
   ]
  },
  {
   "cell_type": "code",
   "execution_count": 33,
   "metadata": {},
   "outputs": [
    {
     "data": {
      "text/html": [
       "<div>\n",
       "<style scoped>\n",
       "    .dataframe tbody tr th:only-of-type {\n",
       "        vertical-align: middle;\n",
       "    }\n",
       "\n",
       "    .dataframe tbody tr th {\n",
       "        vertical-align: top;\n",
       "    }\n",
       "\n",
       "    .dataframe thead th {\n",
       "        text-align: right;\n",
       "    }\n",
       "</style>\n",
       "<table border=\"1\" class=\"dataframe\">\n",
       "  <thead>\n",
       "    <tr style=\"text-align: right;\">\n",
       "      <th></th>\n",
       "      <th>TOTAL_QUANTITY</th>\n",
       "      <th>ACTUAL_COST</th>\n",
       "    </tr>\n",
       "  </thead>\n",
       "  <tbody>\n",
       "    <tr>\n",
       "      <th>0</th>\n",
       "      <td>155548715.0</td>\n",
       "      <td>13817897.64</td>\n",
       "    </tr>\n",
       "  </tbody>\n",
       "</table>\n",
       "</div>"
      ],
      "text/plain": [
       "   TOTAL_QUANTITY  ACTUAL_COST\n",
       "0     155548715.0  13817897.64"
      ]
     },
     "execution_count": 33,
     "metadata": {},
     "output_type": "execute_result"
    }
   ],
   "source": [
    "drugs_2020_may[drugs_2020_may['CHEMICAL_SUBSTANCE_BNF_DESCR']=='Fexofenadine hydrochloride'][['TOTAL_QUANTITY','ACTUAL_COST']].round(2)\n",
    "\n"
   ]
  },
  {
   "cell_type": "markdown",
   "metadata": {},
   "source": [
    "Both the boxplot below illustrates the spread of the data.\n",
    "The great presence of outliers is an indicator that the median is likely a better measure of central tendency that the mean."
   ]
  },
  {
   "cell_type": "code",
   "execution_count": 34,
   "metadata": {},
   "outputs": [
    {
     "data": {
      "image/png": "[encoded data removed]",
      "text/plain": [
       "<Figure size 1296x576 with 1 Axes>"
      ]
     },
     "metadata": {
      "needs_background": "light"
     },
     "output_type": "display_data"
    }
   ],
   "source": [
    "fig,ax1=plt.subplots(figsize=(18,8))\n",
    "sns.boxplot(data=sum_EPD_2021, x=EPD_2021.CHEMICAL_SUBSTANCE_BNF_DESCR,y=EPD_2021.TOTAL_QUANTITY )\n",
    "\n",
    "plt.title('Total Quantities of Oral Antihistamines Dispensed per Month in 2021 (January - May)',fontsize = 14)\n",
    "plt.xlabel('Antihistamines', fontsize=12)\n",
    "plt.ylabel('Quantity prescribed every month', fontsize=12)\n",
    "fig.autofmt_xdate()"
   ]
  },
  {
   "cell_type": "markdown",
   "metadata": {},
   "source": [
    "ONS Local Area Classification and antihistamine prescribing."
   ]
  },
  {
   "cell_type": "code",
   "execution_count": 35,
   "metadata": {},
   "outputs": [
    {
     "data": {
      "text/html": [
       "<div>\n",
       "<style scoped>\n",
       "    .dataframe tbody tr th:only-of-type {\n",
       "        vertical-align: middle;\n",
       "    }\n",
       "\n",
       "    .dataframe tbody tr th {\n",
       "        vertical-align: top;\n",
       "    }\n",
       "\n",
       "    .dataframe thead th {\n",
       "        text-align: right;\n",
       "    }\n",
       "</style>\n",
       "<table border=\"1\" class=\"dataframe\">\n",
       "  <thead>\n",
       "    <tr style=\"text-align: right;\">\n",
       "      <th></th>\n",
       "      <th>ITEMS</th>\n",
       "      <th>TOTAL_QUANTITY</th>\n",
       "      <th>ACTUAL_COST</th>\n",
       "    </tr>\n",
       "    <tr>\n",
       "      <th>Area_Classification</th>\n",
       "      <th></th>\n",
       "      <th></th>\n",
       "      <th></th>\n",
       "    </tr>\n",
       "  </thead>\n",
       "  <tbody>\n",
       "    <tr>\n",
       "      <th>Constrained renters</th>\n",
       "      <td>31.085497</td>\n",
       "      <td>1457.037018</td>\n",
       "      <td>78.793587</td>\n",
       "    </tr>\n",
       "    <tr>\n",
       "      <th>Primary sector workers</th>\n",
       "      <td>34.089854</td>\n",
       "      <td>1440.624582</td>\n",
       "      <td>77.971576</td>\n",
       "    </tr>\n",
       "    <tr>\n",
       "      <th>Ageing urban communities</th>\n",
       "      <td>30.375313</td>\n",
       "      <td>1428.767554</td>\n",
       "      <td>77.176831</td>\n",
       "    </tr>\n",
       "    <tr>\n",
       "      <th>Highly qualified professionals</th>\n",
       "      <td>26.700914</td>\n",
       "      <td>1351.439152</td>\n",
       "      <td>73.782275</td>\n",
       "    </tr>\n",
       "    <tr>\n",
       "      <th>Achieving neighbourhoods</th>\n",
       "      <td>26.377534</td>\n",
       "      <td>1345.963909</td>\n",
       "      <td>72.273176</td>\n",
       "    </tr>\n",
       "  </tbody>\n",
       "</table>\n",
       "</div>"
      ],
      "text/plain": [
       "                                    ITEMS  TOTAL_QUANTITY  ACTUAL_COST\n",
       "Area_Classification                                                   \n",
       "Constrained renters             31.085497     1457.037018    78.793587\n",
       "Primary sector workers          34.089854     1440.624582    77.971576\n",
       "Ageing urban communities        30.375313     1428.767554    77.176831\n",
       "Highly qualified professionals  26.700914     1351.439152    73.782275\n",
       "Achieving neighbourhoods        26.377534     1345.963909    72.273176"
      ]
     },
     "execution_count": 35,
     "metadata": {},
     "output_type": "execute_result"
    }
   ],
   "source": [
    "median_EPD_2021_soac = EPD_2021.groupby(by=['Area_Classification']).mean().sort_values(by='ACTUAL_COST',ascending=False)\n",
    "median_EPD_2021_soac.head(5)"
   ]
  },
  {
   "cell_type": "code",
   "execution_count": 36,
   "metadata": {},
   "outputs": [
    {
     "data": {
      "text/plain": [
       "Text(0, 0.5, 'Median Actual Cost(£)')"
      ]
     },
     "execution_count": 36,
     "metadata": {},
     "output_type": "execute_result"
    },
    {
     "data": {
      "image/png": "[encoded data removed]",
      "text/plain": [
       "<Figure size 1080x576 with 1 Axes>"
      ]
     },
     "metadata": {
      "needs_background": "light"
     },
     "output_type": "display_data"
    }
   ],
   "source": [
    "fig,ax1=plt.subplots(figsize=(15,8))\n",
    "top_ten_areas = median_EPD_2021_soac.head(10)\n",
    "sns.barplot(data=top_ten_areas, x=top_ten_areas.index, y='ACTUAL_COST')\n",
    "fig.autofmt_xdate()\n",
    "\n",
    "plt.title('Top Ten Area Classifications for Oral Antihistamine Prescribing 2021 (January - May)',fontsize = 14)\n",
    "plt.xlabel('ONS Area Classification', fontsize=12)\n",
    "plt.ylabel('Median Actual Cost(£)', fontsize=12)"
   ]
  },
  {
   "cell_type": "markdown",
   "metadata": {},
   "source": [
    "In the year prior to June 2017, the NHS spent approximately £569 million on prescriptions for medicines which can be purchased over the counter from a pharmacy and other outlets such as supermarkets.https://www.england.nhs.uk/medicines-2/conditions-for-which-over-the-counter-items-should-not-routinely-be-prescribed/\n",
    "\n",
    "NHS England advise \"CCGs that a prescription for treatment of mild to moderate hay fever will not routinely be offered in primary care as the condition is appropriate for self-care\". Annual spend, according to NHSE for mild to moderate hay fever/seasonal rhinitis was £1,100,000. https://www.england.nhs.uk/wp-content/uploads/2018/03/otc-guidance-for-ccgs.pdf\n",
    "\n",
    "How are we doing in 2021?"
   ]
  },
  {
   "cell_type": "code",
   "execution_count": 37,
   "metadata": {},
   "outputs": [
    {
     "data": {
      "text/plain": [
       "Ttest_indResult(statistic=-0.5030370167019775, pvalue=0.6149486093290443)"
      ]
     },
     "execution_count": 37,
     "metadata": {},
     "output_type": "execute_result"
    }
   ],
   "source": [
    "x = EPD_2021[EPD_2021['Area_Classification']=='Ageing urban communities']['ACTUAL_COST']\n",
    "y = EPD_2021[EPD_2021['Area_Classification']=='Primary sector workers']['ACTUAL_COST']\n",
    "     \n",
    "stats.ttest_ind(x,y, equal_var=False)"
   ]
  },
  {
   "cell_type": "code",
   "execution_count": 39,
   "metadata": {},
   "outputs": [
    {
     "name": "stdout",
     "output_type": "stream",
     "text": [
      "The total amount spent in England on oral antihistamines in 2021 (January-May) is £13170473.0 .\n"
     ]
    }
   ],
   "source": [
    "Total_spend = np.sum(EPD_2021.ACTUAL_COST).round()\n",
    "print(\"The total amount spent in England on oral antihistamines in 2021 (January-May) is £{} .\".format(Total_spend))"
   ]
  },
  {
   "cell_type": "markdown",
   "metadata": {},
   "source": [
    "Need to use data from OpenPrescribing to delve into item or £ per patient!"
   ]
  },
  {
   "cell_type": "markdown",
   "metadata": {},
   "source": [
    "### AWS EC2 Instance"
   ]
  },
  {
   "cell_type": "markdown",
   "metadata": {},
   "source": [
    "#### Steps required to connect to a Linus instance using SSH\n",
    "\n",
    "1. Within EC2 create a security group.\n",
    "   In this example, one of the outbound rules must specify:\n",
    "   \n",
    "   <u>Inbound rule 1</u>\n",
    "       Type: Custom TCP Port \n",
    "       Port Range: e.g. 9999\n",
    "       Source: 0.0.0.0/0 (anywhere)\n",
    "       Protocol: TCP\n",
    "       \n",
    "   <u>Inbound rule 2</u>\n",
    "       Type: Custom SSH\n",
    "       Port Range: 22 (default)\n",
    "       Source: 0.0.0.0/0 (anywhere)\n",
    "       Protocol: TCP\n",
    "       \n",
    "   <u>Outbound rule </u>\n",
    "       Type: All Traffic\n",
    "       Port Range: All\n",
    "       Source: 0.0.0.0/0 (anywhere)\n",
    "       Protocol: All\n",
    "       \n",
    "2. Initiate an instance. The choice is yours, free instances are available.\n",
    "\n",
    "3. <b><font color='red'>Ensure the .pem key is downloaded !!</font> </b>\n",
    "4. Assign the security group to the instance.\n",
    "5. Fire up your terminal (mac)\n",
    "    - Navigate to the correct folder/location, the ls and cd commands alongside the tab key will be most useful.\n",
    "    - Enter ssh -i [pem-file-name].pem ec2-user@[public-IP]\n",
    "    - Read AWS guidance (link below) to understand the risks and confirm 'yes' to:\n",
    "        \n",
    "        <i> The authenticity of host 'ec2-198-51-100-1.compute-1.amazonaws.com (198-51-100-1)' can't be established. ECDSA key fingerprint is l4UB/neBad9tvkgJf1QZWxheQmR59WgrgzEimCG6kZY.\n",
    "Are you sure you want to continue connecting (yes/no)? </i>\n",
    "\n",
    "\n",
    "    - Run \"sudo yum install python3\" to ensure you have the right version of python within the instance.\n",
    "\n",
    "#### Running a function\n",
    "\n",
    "1. A .py file (example code below)containing instructions for the server (instance) should be sent to root directory of the instnace using (within the terminal):\n",
    "    \n",
    "    scp -i [pem-file-name].pem [file-name].py ec2-user@[Public IP]:~/\n",
    "    \n",
    "   \n",
    "2. The client machine can then run the function, freeing the local CPU to complete other tasks. \n",
    "\n",
    "\n",
    "Guidance document for connecting to an instance. https://docs.aws.amazon.com/AWSEC2/latest/UserGuide/AccessingInstancesLinux.html\n",
    "\n",
    "Example code below."
   ]
  },
  {
   "cell_type": "markdown",
   "metadata": {},
   "source": [
    "#### Server"
   ]
  },
  {
   "cell_type": "code",
   "execution_count": null,
   "metadata": {},
   "outputs": [],
   "source": [
    "from xmlrpc.server import SimpleXMLRPCServer\n",
    "import logging\n",
    "\n",
    "from multiprocessing import Process\n",
    "\n",
    "def runServer():\n",
    "    server = SimpleXMLRPCServer(\n",
    "        ('0.0.0.0', 9999),\n",
    "        logRequests=True,\n",
    "    )\n",
    "    server.register_function(function_name)\n",
    "    # Start the server\n",
    "    try:\n",
    "        print('Use Control-C to exit')\n",
    "        server.serve_forever()\n",
    "    except KeyboardInterrupt:\n",
    "        print('Exiting')\n",
    "        \n",
    "def function_name(args, kwargs):\n",
    "    \n",
    "    return requred_result\n",
    "\n",
    "p = Process(target=runServer) #Run the function within the server, not the local machine/client.\n",
    "p.start()"
   ]
  },
  {
   "cell_type": "markdown",
   "metadata": {},
   "source": [
    "#### Client"
   ]
  },
  {
   "cell_type": "code",
   "execution_count": null,
   "metadata": {
    "scrolled": true
   },
   "outputs": [],
   "source": [
    "import xmlrpc.client\n",
    "proxy = xmlrpc.client.ServerProxy('http://[public IP]:9999')\n",
    "\n",
    "proxy.function_name(args, kwargs)"
   ]
  }
 ],
 "metadata": {
  "kernelspec": {
   "display_name": "Python 3",
   "language": "python",
   "name": "python3"
  },
  "language_info": {
   "codemirror_mode": {
    "name": "ipython",
    "version": 3
   },
   "file_extension": ".py",
   "mimetype": "text/x-python",
   "name": "python",
   "nbconvert_exporter": "python",
   "pygments_lexer": "ipython3",
   "version": "3.7.6"
  }
 },
 "nbformat": 4,
 "nbformat_minor": 4
}
