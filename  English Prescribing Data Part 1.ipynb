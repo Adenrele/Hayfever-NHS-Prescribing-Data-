{
 "cells": [
  {
   "cell_type": "markdown",
   "metadata": {},
   "source": [
    "# NHSBSA English Prescribing Data (EPD) Analysis"
   ]
  },
  {
   "cell_type": "markdown",
   "metadata": {},
   "source": [
    "##                            Part 1: Data Extraction and Transformation"
   ]
  },
  {
   "cell_type": "markdown",
   "metadata": {},
   "source": [
    "API documentation https://docs.ckan.org/en/2.8/api/"
   ]
  },
  {
   "cell_type": "code",
   "execution_count": 1,
   "metadata": {},
   "outputs": [
    {
     "data": {
      "text/plain": [
       "200"
      ]
     },
     "execution_count": 1,
     "metadata": {},
     "output_type": "execute_result"
    }
   ],
   "source": [
    "#Import the requests module. This module is used to send HTTP requests in python.\n",
    "import requests  \n",
    "\n",
    "#The url below is described within the API documentation and is used to view the datasets available.\n",
    "url = \"http://opendata.nhsbsa.net/api/3/action/package_list\"\n",
    "\n",
    "#Response.get sends a get request to obtain data from a url.\n",
    "response = requests.get(url)\n",
    "\n",
    "#The status code below is used to ensure the request has/can be made successfully.\n",
    "#Status code 200 means the request was successful.\n",
    "\n",
    "response.status_code"
   ]
  },
  {
   "cell_type": "code",
   "execution_count": 2,
   "metadata": {},
   "outputs": [
    {
     "data": {
      "text/plain": [
       "{'help': 'https://opendata.nhsbsa.net/api/3/action/help_show?name=package_list',\n",
       " 'success': True,\n",
       " 'result': ['english-prescribing-data-epd',\n",
       "  'english-prescribing-dataset-epd-with-snomed-code',\n",
       "  'prescription-cost-analysis-pca-annual-statistics',\n",
       "  'prescription-cost-analysis-pca-monthly-data',\n",
       "  'secondary-care-medicines-data']}"
      ]
     },
     "execution_count": 2,
     "metadata": {},
     "output_type": "execute_result"
    }
   ],
   "source": [
    "#Display the response in dictionary format.\n",
    "response.json()"
   ]
  },
  {
   "cell_type": "code",
   "execution_count": 3,
   "metadata": {},
   "outputs": [
    {
     "name": "stdout",
     "output_type": "stream",
     "text": [
      "['english-prescribing-data-epd', 'english-prescribing-dataset-epd-with-snomed-code', 'prescription-cost-analysis-pca-annual-statistics', 'prescription-cost-analysis-pca-monthly-data', 'secondary-care-medicines-data']\n"
     ]
    }
   ],
   "source": [
    "#Print the values in the 'result' key.\n",
    "#The 'result' key contains the names of datasets available.\n",
    "\n",
    "#Only three datasets are available.\n",
    "print(response.json()['result'])"
   ]
  },
  {
   "cell_type": "code",
   "execution_count": 4,
   "metadata": {},
   "outputs": [
    {
     "data": {
      "text/plain": [
       "200"
      ]
     },
     "execution_count": 4,
     "metadata": {},
     "output_type": "execute_result"
    }
   ],
   "source": [
    "#Using the API documentation, the url containing the medicines data was used and tested using response.status_code\n",
    "url2 = \"http://opendata.nhsbsa.net/api/3/action/package_show?id=english-prescribing-data-epd\"\n",
    "response2 = requests.get(url2)\n",
    "response2_json = response2.json() \n",
    "response2.status_code"
   ]
  },
  {
   "cell_type": "code",
   "execution_count": 5,
   "metadata": {},
   "outputs": [
    {
     "data": {
      "text/plain": [
       "dict_keys(['num_resources', 'maintainer', 'tags', 'relationships_as_object', 'private', 'maintainer_email', 'num_tags', 'groups', 'license_id', 'isopen', 'id', 'metadata_created', 'organization', 'name', 'metadata_modified', 'author', 'author_email', 'notes', 'license_title', 'owner_org', 'relationships_as_subject', 'url', 'state', 'version', 'title', 'creator_user_id', 'revision_id', 'type', 'resources', 'extras'])"
      ]
     },
     "execution_count": 5,
     "metadata": {},
     "output_type": "execute_result"
    }
   ],
   "source": [
    "#The keys within the output of the results were investigated.\n",
    "response2_json['result'].keys()"
   ]
  },
  {
   "cell_type": "code",
   "execution_count": 6,
   "metadata": {},
   "outputs": [
    {
     "data": {
      "text/plain": [
       "'https://opendata.nhsbsa.net/dataset/65050ec0-5abd-48ce-989d-defc08ed837e/resource/8ae6b792-2a0c-4f4b-826c-dc6483dc32a7/download/epd_201401.csv'"
      ]
     },
     "execution_count": 6,
     "metadata": {},
     "output_type": "execute_result"
    }
   ],
   "source": [
    "#Each dataset for medicines in secondary care is stored within csv files downloadable through a url.\n",
    "response2_json['result']['resources'][0]['url']"
   ]
  },
  {
   "cell_type": "code",
   "execution_count": 7,
   "metadata": {
    "scrolled": true
   },
   "outputs": [
    {
     "data": {
      "text/plain": [
       "['https://opendata.nhsbsa.net/dataset/65050ec0-5abd-48ce-989d-defc08ed837e/resource/8ae6b792-2a0c-4f4b-826c-dc6483dc32a7/download/epd_201401.csv',\n",
       " 'https://opendata.nhsbsa.net/dataset/65050ec0-5abd-48ce-989d-defc08ed837e/resource/78b8c360-1048-4d30-82fd-02e66fa8b693/download/epd_201402.csv',\n",
       " 'https://opendata.nhsbsa.net/dataset/65050ec0-5abd-48ce-989d-defc08ed837e/resource/54584067-3109-4f27-8c48-c78001923c3b/download/epd_201403.csv',\n",
       " 'https://opendata.nhsbsa.net/dataset/65050ec0-5abd-48ce-989d-defc08ed837e/resource/5e25a419-8334-4fb2-bcef-8508870be90e/download/epd_201404.csv',\n",
       " 'https://opendata.nhsbsa.net/dataset/65050ec0-5abd-48ce-989d-defc08ed837e/resource/5763be28-0dde-430c-bddc-73b32a575d75/download/epd_201405.csv',\n",
       " 'https://opendata.nhsbsa.net/dataset/65050ec0-5abd-48ce-989d-defc08ed837e/resource/32c2c600-2e9d-47e2-9d45-407d0e6b03f7/download/epd_201406.csv',\n",
       " 'https://opendata.nhsbsa.net/dataset/65050ec0-5abd-48ce-989d-defc08ed837e/resource/9f185ff8-aad4-4555-b1fe-ed49560b6af0/download/epd_201407.csv',\n",
       " 'https://opendata.nhsbsa.net/dataset/65050ec0-5abd-48ce-989d-defc08ed837e/resource/3afbd596-a511-4c4f-9a4e-cb51f808a54e/download/epd_201408.csv',\n",
       " 'https://opendata.nhsbsa.net/dataset/65050ec0-5abd-48ce-989d-defc08ed837e/resource/d6fa3292-0ba8-468e-ae2d-b67725c84bb5/download/epd_201409.csv',\n",
       " 'https://opendata.nhsbsa.net/dataset/65050ec0-5abd-48ce-989d-defc08ed837e/resource/e131e18d-9561-4ba2-98aa-4e70aae2314d/download/epd_201410.csv',\n",
       " 'https://opendata.nhsbsa.net/dataset/65050ec0-5abd-48ce-989d-defc08ed837e/resource/cdb3cb89-8047-49a0-899a-ca3516793e32/download/epd_201411.csv',\n",
       " 'https://opendata.nhsbsa.net/dataset/65050ec0-5abd-48ce-989d-defc08ed837e/resource/31134e88-cb67-446c-83d0-16ecddab8e3c/download/epd_201412.csv',\n",
       " 'https://opendata.nhsbsa.net/dataset/65050ec0-5abd-48ce-989d-defc08ed837e/resource/52e216dd-3a0b-45b5-b2ca-d0efbeab03d1/download/epd_201501.csv',\n",
       " 'https://opendata.nhsbsa.net/dataset/65050ec0-5abd-48ce-989d-defc08ed837e/resource/331a5d37-6ab8-4f62-b78f-89258e82df24/download/epd_201502.csv',\n",
       " 'https://opendata.nhsbsa.net/dataset/65050ec0-5abd-48ce-989d-defc08ed837e/resource/7025685b-1eb1-429c-aafa-96efa3f128a2/download/epd_201503.csv',\n",
       " 'https://opendata.nhsbsa.net/dataset/65050ec0-5abd-48ce-989d-defc08ed837e/resource/aa9b8817-5065-4aaf-a05e-5e915cfebbe8/download/epd_201504.csv',\n",
       " 'https://opendata.nhsbsa.net/dataset/65050ec0-5abd-48ce-989d-defc08ed837e/resource/28741847-fecc-4498-bb65-82728d9ad5ce/download/epd_201505.csv',\n",
       " 'https://opendata.nhsbsa.net/dataset/65050ec0-5abd-48ce-989d-defc08ed837e/resource/ec764bd3-ac10-4ed7-ac6b-b19d2f452502/download/epd_201506.csv',\n",
       " 'https://opendata.nhsbsa.net/dataset/65050ec0-5abd-48ce-989d-defc08ed837e/resource/97c4e4c7-97e0-4fe5-8d0f-3a4198f69b63/download/epd_201507.csv',\n",
       " 'https://opendata.nhsbsa.net/dataset/65050ec0-5abd-48ce-989d-defc08ed837e/resource/d2c8eafe-007e-4b35-80d2-5677c99ccc7e/download/epd_201508.csv',\n",
       " 'https://opendata.nhsbsa.net/dataset/65050ec0-5abd-48ce-989d-defc08ed837e/resource/c7935e2d-7c71-44ef-981f-746052317a32/download/epd_201509.csv',\n",
       " 'https://opendata.nhsbsa.net/dataset/65050ec0-5abd-48ce-989d-defc08ed837e/resource/4effd6da-7122-45ce-8ece-d3c0e16b5644/download/epd_201510.csv',\n",
       " 'https://opendata.nhsbsa.net/dataset/65050ec0-5abd-48ce-989d-defc08ed837e/resource/ab641af5-dc02-4f0c-bd99-ef7271d5f932/download/epd_201511.csv',\n",
       " 'https://opendata.nhsbsa.net/dataset/65050ec0-5abd-48ce-989d-defc08ed837e/resource/3db0ae4b-7627-43d7-9664-e38a1ed818ee/download/epd_201512.csv',\n",
       " 'https://opendata.nhsbsa.net/dataset/65050ec0-5abd-48ce-989d-defc08ed837e/resource/c95cda64-97bf-41a0-b93f-e702904f9a07/download/epd_201601.csv',\n",
       " 'https://opendata.nhsbsa.net/dataset/65050ec0-5abd-48ce-989d-defc08ed837e/resource/110bd1bf-efd2-4cf4-b677-6d493315076c/download/epd_201602.csv',\n",
       " 'https://opendata.nhsbsa.net/dataset/65050ec0-5abd-48ce-989d-defc08ed837e/resource/47833ade-0eaf-4af5-93b3-03df8fb9f3ef/download/epd_201603.csv',\n",
       " 'https://opendata.nhsbsa.net/dataset/65050ec0-5abd-48ce-989d-defc08ed837e/resource/d2587abd-84c3-4cff-9471-6b704df4e642/download/epd_201604.csv',\n",
       " 'https://opendata.nhsbsa.net/dataset/65050ec0-5abd-48ce-989d-defc08ed837e/resource/6fb58412-89a3-4a12-a4d9-54382b9f4cff/download/epd_201605.csv',\n",
       " 'https://opendata.nhsbsa.net/dataset/65050ec0-5abd-48ce-989d-defc08ed837e/resource/44f7902b-49ec-4226-8c4b-b13cb3e828f9/download/epd_201606.csv',\n",
       " 'https://opendata.nhsbsa.net/dataset/65050ec0-5abd-48ce-989d-defc08ed837e/resource/5dcdd946-29f2-415e-a5d8-be5727409692/download/epd_201607.csv',\n",
       " 'https://opendata.nhsbsa.net/dataset/65050ec0-5abd-48ce-989d-defc08ed837e/resource/c386f1e4-ce88-48b4-ada2-b97fd46060bd/download/epd_201608.csv',\n",
       " 'https://opendata.nhsbsa.net/dataset/65050ec0-5abd-48ce-989d-defc08ed837e/resource/7ced23ee-2e4a-4c3c-98d8-c7458ba6fd97/download/epd_201609.csv',\n",
       " 'https://opendata.nhsbsa.net/dataset/65050ec0-5abd-48ce-989d-defc08ed837e/resource/c8cd6039-74cf-428b-a54a-4026377e93c0/download/epd_201610.csv',\n",
       " 'https://opendata.nhsbsa.net/dataset/65050ec0-5abd-48ce-989d-defc08ed837e/resource/c9ed86fe-4135-4cda-92a9-471993d628d1/download/epd_201611.csv',\n",
       " 'https://opendata.nhsbsa.net/dataset/65050ec0-5abd-48ce-989d-defc08ed837e/resource/9d4e12b8-781d-4a49-854a-eb8003f39076/download/epd_201612.csv',\n",
       " 'https://opendata.nhsbsa.net/dataset/65050ec0-5abd-48ce-989d-defc08ed837e/resource/ab3ee8d7-8b8a-4d01-b6da-a9f49a6d5829/download/epd_201701.csv',\n",
       " 'https://opendata.nhsbsa.net/dataset/65050ec0-5abd-48ce-989d-defc08ed837e/resource/bac38cd5-56af-4c8b-bf77-1effbaaccf6e/download/epd_201702.csv',\n",
       " 'https://opendata.nhsbsa.net/dataset/65050ec0-5abd-48ce-989d-defc08ed837e/resource/0d0c35b6-13e7-4505-bd08-ac801457f40a/download/epd_201703.csv',\n",
       " 'https://opendata.nhsbsa.net/dataset/65050ec0-5abd-48ce-989d-defc08ed837e/resource/63e741c8-9d94-42d6-8e6f-fa62895d8a8d/download/epd_201704.csv',\n",
       " 'https://opendata.nhsbsa.net/dataset/65050ec0-5abd-48ce-989d-defc08ed837e/resource/23c921c9-d11a-47d8-ae80-77f35c06f089/download/epd_201705.csv',\n",
       " 'https://opendata.nhsbsa.net/dataset/65050ec0-5abd-48ce-989d-defc08ed837e/resource/306caea7-48bc-418a-9956-1b5be528bd15/download/epd_201706.csv',\n",
       " 'https://opendata.nhsbsa.net/dataset/65050ec0-5abd-48ce-989d-defc08ed837e/resource/256d1711-c355-4412-a0e0-95b3806444f8/download/epd_201707.csv',\n",
       " 'https://opendata.nhsbsa.net/dataset/65050ec0-5abd-48ce-989d-defc08ed837e/resource/00f3d0d2-8c18-4bce-8152-1a94079d333a/download/epd_201708.csv',\n",
       " 'https://opendata.nhsbsa.net/dataset/65050ec0-5abd-48ce-989d-defc08ed837e/resource/83dc4b0c-6592-483b-baef-7df3bbb03176/download/epd_201709.csv',\n",
       " 'https://opendata.nhsbsa.net/dataset/65050ec0-5abd-48ce-989d-defc08ed837e/resource/5145e967-57ce-4382-9140-66898dacb5b1/download/epd_201710.csv',\n",
       " 'https://opendata.nhsbsa.net/dataset/65050ec0-5abd-48ce-989d-defc08ed837e/resource/f9c8abe8-9434-4491-ae6d-818cf01cf45e/download/epd_201711.csv',\n",
       " 'https://opendata.nhsbsa.net/dataset/65050ec0-5abd-48ce-989d-defc08ed837e/resource/6df6c28f-e696-4772-b4e2-4133dfe1bfac/download/epd_201712.csv',\n",
       " 'https://opendata.nhsbsa.net/dataset/65050ec0-5abd-48ce-989d-defc08ed837e/resource/0877293b-2a36-45d5-be51-285788aa9f8c/download/epd_201801.csv',\n",
       " 'https://opendata.nhsbsa.net/dataset/65050ec0-5abd-48ce-989d-defc08ed837e/resource/13875088-ae1f-44b5-a660-f7a3c1a21526/download/epd_201802.csv',\n",
       " 'https://opendata.nhsbsa.net/dataset/65050ec0-5abd-48ce-989d-defc08ed837e/resource/03398fe5-e7c6-43ec-b7ac-627407aa8bf1/download/epd_201803.csv',\n",
       " 'https://opendata.nhsbsa.net/dataset/65050ec0-5abd-48ce-989d-defc08ed837e/resource/e14d5ae5-73f5-4b2b-bb07-11d22fe94dd7/download/epd_201804.csv',\n",
       " 'https://opendata.nhsbsa.net/dataset/65050ec0-5abd-48ce-989d-defc08ed837e/resource/65a0db9a-20d4-4705-b27b-f898b9916483/download/epd_201805.csv',\n",
       " 'https://opendata.nhsbsa.net/dataset/65050ec0-5abd-48ce-989d-defc08ed837e/resource/3ffe792a-1cb9-43a4-a21d-52c4d1323bdc/download/epd_201806.csv',\n",
       " 'https://opendata.nhsbsa.net/dataset/65050ec0-5abd-48ce-989d-defc08ed837e/resource/e1094870-6756-4c60-a9da-f625bbc14d43/download/epd_201807.csv',\n",
       " 'https://opendata.nhsbsa.net/dataset/65050ec0-5abd-48ce-989d-defc08ed837e/resource/440b0814-1ff2-407e-8830-56d511732347/download/epd_201808.csv',\n",
       " 'https://opendata.nhsbsa.net/dataset/65050ec0-5abd-48ce-989d-defc08ed837e/resource/8b663e42-cddb-4e25-838a-b3c4bb7d1dc1/download/epd_201809.csv',\n",
       " 'https://opendata.nhsbsa.net/dataset/65050ec0-5abd-48ce-989d-defc08ed837e/resource/3277de38-2171-4e70-ba48-7fc9133e69bf/download/epd_201810.csv',\n",
       " 'https://opendata.nhsbsa.net/dataset/65050ec0-5abd-48ce-989d-defc08ed837e/resource/e09e202b-e0c9-4d11-b49c-baf89e7f8855/download/epd_201811.csv',\n",
       " 'https://opendata.nhsbsa.net/dataset/65050ec0-5abd-48ce-989d-defc08ed837e/resource/65967506-b5a9-4a53-a49b-7eb54d6b9fc2/download/epd_201812.csv',\n",
       " 'https://opendata.nhsbsa.net/dataset/65050ec0-5abd-48ce-989d-defc08ed837e/resource/a4c6bafa-cd6c-4699-b5c7-3a317621b044/download/epd_201901.csv',\n",
       " 'https://opendata.nhsbsa.net/dataset/65050ec0-5abd-48ce-989d-defc08ed837e/resource/e83fd961-9a84-4953-9fe8-3a2f0ebc1d36/download/epd_201902.csv',\n",
       " 'https://opendata.nhsbsa.net/dataset/65050ec0-5abd-48ce-989d-defc08ed837e/resource/83358c58-4aeb-44d6-a351-28f2426a8309/download/epd_201903.csv',\n",
       " 'https://opendata.nhsbsa.net/dataset/65050ec0-5abd-48ce-989d-defc08ed837e/resource/bf49928f-2f62-42fe-9614-50efec834f38/download/epd_201904.csv',\n",
       " 'https://opendata.nhsbsa.net/dataset/65050ec0-5abd-48ce-989d-defc08ed837e/resource/c18a192a-21ef-48d4-9dd3-837a060af317/download/epd_201905.csv',\n",
       " 'https://opendata.nhsbsa.net/dataset/65050ec0-5abd-48ce-989d-defc08ed837e/resource/d1db6402-56f8-4552-9bf3-935f52d25965/download/epd_201906.csv',\n",
       " 'https://opendata.nhsbsa.net/dataset/65050ec0-5abd-48ce-989d-defc08ed837e/resource/62ea0ccd-3724-4acf-8201-81b85fb44653/download/epd_201907.csv',\n",
       " 'https://opendata.nhsbsa.net/dataset/65050ec0-5abd-48ce-989d-defc08ed837e/resource/272bfc8a-9d04-4b6b-97ec-7a38ca497103/download/epd_201908.csv',\n",
       " 'https://opendata.nhsbsa.net/dataset/65050ec0-5abd-48ce-989d-defc08ed837e/resource/e8f7c63c-bf46-4569-b24b-0caae896f870/download/epd_201909.csv',\n",
       " 'https://opendata.nhsbsa.net/dataset/65050ec0-5abd-48ce-989d-defc08ed837e/resource/21e92b90-996f-4ad7-8407-d84ea5cd3107/download/epd_201910.csv',\n",
       " 'https://opendata.nhsbsa.net/dataset/65050ec0-5abd-48ce-989d-defc08ed837e/resource/6850c7e3-53c5-4fa6-8627-cb89404f7d77/download/epd_201911.csv',\n",
       " 'https://opendata.nhsbsa.net/dataset/65050ec0-5abd-48ce-989d-defc08ed837e/resource/174a462c-7d64-4549-a93f-288631f4cbef/download/epd_201912.csv',\n",
       " 'https://opendata.nhsbsa.net/dataset/65050ec0-5abd-48ce-989d-defc08ed837e/resource/f2f68785-a1d3-417b-94c3-9d1a3f9f4469/download/epd_202001.csv',\n",
       " 'https://opendata.nhsbsa.net/dataset/65050ec0-5abd-48ce-989d-defc08ed837e/resource/51583ee3-d47d-4f1d-9af6-d2e1bda7c2bd/download/epd_202002.csv',\n",
       " 'https://opendata.nhsbsa.net/dataset/65050ec0-5abd-48ce-989d-defc08ed837e/resource/087f4ba7-2e4a-4708-87f9-53a9b8368575/download/epd_202003.csv',\n",
       " 'https://opendata.nhsbsa.net/dataset/65050ec0-5abd-48ce-989d-defc08ed837e/resource/da4f1c09-d3f6-427f-aa06-f089a581fc8a/download/epd_202004.csv',\n",
       " 'https://opendata.nhsbsa.net/dataset/65050ec0-5abd-48ce-989d-defc08ed837e/resource/e7dc4547-e9ba-4d9f-97a6-2907af5b7c0a/download/epd_202005.csv',\n",
       " 'https://opendata.nhsbsa.net/dataset/65050ec0-5abd-48ce-989d-defc08ed837e/resource/8ffd891f-a9c1-4e2d-b867-4be428824a71/download/epd_202006.csv',\n",
       " 'https://opendata.nhsbsa.net/dataset/65050ec0-5abd-48ce-989d-defc08ed837e/resource/db922c9e-c674-4a3d-aeeb-5863f8fdca96/download/epd_202007.csv',\n",
       " 'https://opendata.nhsbsa.net/dataset/65050ec0-5abd-48ce-989d-defc08ed837e/resource/6a853812-3ee9-4e0e-960f-d959ef7ad5af/download/epd_202008.csv',\n",
       " 'https://opendata.nhsbsa.net/dataset/65050ec0-5abd-48ce-989d-defc08ed837e/resource/94560e19-3dc2-4976-ad4c-26abccb8f2c1/download/epd_202009.csv',\n",
       " 'https://opendata.nhsbsa.net/dataset/65050ec0-5abd-48ce-989d-defc08ed837e/resource/c17b26b8-ac04-4c04-b6f5-6508442fc857/download/epd_202010.csv',\n",
       " 'https://opendata.nhsbsa.net/dataset/65050ec0-5abd-48ce-989d-defc08ed837e/resource/e644bda8-3a73-4286-b827-4fdc629bf456/download/epd_202011.csv',\n",
       " 'https://opendata.nhsbsa.net/dataset/65050ec0-5abd-48ce-989d-defc08ed837e/resource/bcd4b82a-963b-4b89-9f27-ffcd90d3056f/download/epd_202012.csv',\n",
       " 'https://opendata.nhsbsa.net/dataset/65050ec0-5abd-48ce-989d-defc08ed837e/resource/721c05ed-a75e-4208-8759-f4b8f3d83862/download/epd_202101.csv',\n",
       " 'https://opendata.nhsbsa.net/dataset/65050ec0-5abd-48ce-989d-defc08ed837e/resource/0fc73184-ea58-4585-8989-81b42220c6f7/download/epd_202102.csv',\n",
       " 'https://opendata.nhsbsa.net/dataset/65050ec0-5abd-48ce-989d-defc08ed837e/resource/758c1f5d-b2da-4ae9-8a5a-d5cf2324ee46/download/epd_202103.csv',\n",
       " 'https://opendata.nhsbsa.net/dataset/65050ec0-5abd-48ce-989d-defc08ed837e/resource/928409f4-4a34-4bec-93c9-61380173df58/download/epd_202104.csv']"
      ]
     },
     "execution_count": 7,
     "metadata": {},
     "output_type": "execute_result"
    }
   ],
   "source": [
    "datasets =[]\n",
    "for num in range(len(response2_json['result']['resources'])):\n",
    "    datasets.append(response2_json['result']['resources'][num]['url'])\n",
    "datasets"
   ]
  },
  {
   "cell_type": "markdown",
   "metadata": {},
   "source": [
    "# Memory"
   ]
  },
  {
   "cell_type": "markdown",
   "metadata": {},
   "source": [
    "2019's prescribing data can now be found in datasets[60:72], however, an attempt to read all of the CSVs into memory using Pandas will result in wastage of hours followed by a crash.\n",
    "\n",
    "An option is to read the CSVs in chunks, however, I soon learnt that there just is not enough memory to complete the task in a manner which is efficient and allows for reproduction. My Macbook possesses a meagre 8GB of memory. \"Restart and Run All Cells\" became synonymous with \"waste the whole weekend\".\n",
    "\n",
    "The solution? Read only the features and records which are required. There is also a need to investigate the data types which take up less memory and apply necessary changes to features whilst reading."
   ]
  },
  {
   "cell_type": "code",
   "execution_count": 8,
   "metadata": {},
   "outputs": [],
   "source": [
    "#Here, an entire CSV (one month) is read to memory. The size can be seen below.\n",
    "\n",
    "\n",
    "import pandas as pd\n",
    "test_df = pd.read_csv(datasets[60], sep =\",\")"
   ]
  },
  {
   "cell_type": "code",
   "execution_count": 9,
   "metadata": {},
   "outputs": [
    {
     "name": "stdout",
     "output_type": "stream",
     "text": [
      "<class 'pandas.core.frame.DataFrame'>\n",
      "RangeIndex: 18216730 entries, 0 to 18216729\n",
      "Data columns (total 26 columns):\n",
      " #   Column                        Non-Null Count     Dtype  \n",
      "---  ------                        --------------     -----  \n",
      " 0   YEAR_MONTH                    18216730 non-null  int64  \n",
      " 1   REGIONAL_OFFICE_NAME          18216730 non-null  object \n",
      " 2   REGIONAL_OFFICE_CODE          18216730 non-null  object \n",
      " 3   AREA_TEAM_NAME                18216730 non-null  object \n",
      " 4   AREA_TEAM_CODE                18216730 non-null  object \n",
      " 5   PCO_NAME                      18216730 non-null  object \n",
      " 6   PCO_CODE                      18216730 non-null  object \n",
      " 7   PRACTICE_NAME                 18216730 non-null  object \n",
      " 8   PRACTICE_CODE                 18216730 non-null  object \n",
      " 9   ADDRESS_1                     18198587 non-null  object \n",
      " 10  ADDRESS_2                     17278708 non-null  object \n",
      " 11  ADDRESS_3                     17761951 non-null  object \n",
      " 12  ADDRESS_4                     15686800 non-null  object \n",
      " 13  POSTCODE                      18198696 non-null  object \n",
      " 14  BNF_CHEMICAL_SUBSTANCE        18216730 non-null  object \n",
      " 15  CHEMICAL_SUBSTANCE_BNF_DESCR  18216730 non-null  object \n",
      " 16  BNF_CODE                      18216730 non-null  object \n",
      " 17  BNF_DESCRIPTION               18216730 non-null  object \n",
      " 18  BNF_CHAPTER_PLUS_CODE         18216730 non-null  object \n",
      " 19  QUANTITY                      18216730 non-null  float64\n",
      " 20  ITEMS                         18216730 non-null  int64  \n",
      " 21  TOTAL_QUANTITY                18216730 non-null  float64\n",
      " 22  ADQUSAGE                      18216730 non-null  float64\n",
      " 23  NIC                           18216730 non-null  float64\n",
      " 24  ACTUAL_COST                   18216730 non-null  float64\n",
      " 25  UNIDENTIFIED                  18216730 non-null  object \n",
      "dtypes: float64(5), int64(2), object(19)\n",
      "memory usage: 23.8 GB\n"
     ]
    }
   ],
   "source": [
    "test_df.info(memory_usage='deep', null_counts=True, verbose=True)"
   ]
  },
  {
   "cell_type": "code",
   "execution_count": 10,
   "metadata": {},
   "outputs": [],
   "source": [
    "#test_df.memory_usage(deep=True)"
   ]
  },
  {
   "cell_type": "code",
   "execution_count": 11,
   "metadata": {},
   "outputs": [],
   "source": [
    "#Let's free up that memory!\n",
    "\n",
    "del test_df"
   ]
  },
  {
   "cell_type": "markdown",
   "metadata": {},
   "source": [
    "As can be seen above, a full reading of only one CSV assumes  MB of memory. This is not efficient. Below a function which reads a list of urls in Pandas whilst preparing the data to use memory effificiently is defined."
   ]
  },
  {
   "cell_type": "code",
   "execution_count": 14,
   "metadata": {},
   "outputs": [],
   "source": [
    "from datetime import datetime\n",
    "\n",
    "def LargeCSVsChop(listofCSV_URLs):\n",
    "    \n",
    "    \n",
    "    dfs = []\n",
    "    for num in range(len(listofCSV_URLs)):\n",
    "\n",
    "        feats = ['YEAR_MONTH', 'PCO_NAME', 'PRACTICE_NAME', 'CHEMICAL_SUBSTANCE_BNF_DESCR', \n",
    "                'BNF_DESCRIPTION', 'TOTAL_QUANTITY', 'ACTUAL_COST']\n",
    "        \n",
    "        custom_date_parser = lambda x: datetime.strptime(x, \"%Y%m\")\n",
    "        \n",
    "        df = pd.read_csv(listofCSV_URLs[num], sep =\",\", usecols = feats, date_parser=custom_date_parser,\n",
    "                                                                         parse_dates=['YEAR_MONTH'])\n",
    "        \n",
    "        \"\"\"\"\n",
    "        'feats' is a list of the columns/features from the CSV that I want Pandas to read to memory.\n",
    "        \n",
    "        types = {'TOTAL_QUANTITY': int, 'ACTUAL_COST':float}\n",
    "        \n",
    "        Types is a dictionary of columns and the datatypes they should be read as using dtypes = types in the read_csv function. \n",
    "        \n",
    "        The types are optimal so no changes will be made but the dictionary can be used in future.    \n",
    "        \n",
    "        \n",
    "        'custom_data_parser' will be used to convert the dtype of the YEAR_MONTH feature to date format.\n",
    "\n",
    "        \n",
    "        \n",
    "        The dataframe will read only feats and convert the dtype of the YEAR_MONTH feature.\n",
    "        \n",
    "        'df' is used as a variable again for the filtered dataframe to prompt the deallocation of the unfiltered\n",
    "        #dataframe object from memory by dropping the reference count to zero and prompting garbage collection algorithms.\n",
    "        \n",
    "        \n",
    "        Oral antihistamines will be the focus of this analysis. 'CHEMICAL_SUBSTANCE_BNF_DESCR' is used to ensure all\n",
    "        forms and brads of the drugs are captured. Further work is done using 'BNF_DESCRIPTION' to remove unwanted products.\n",
    "        \n",
    "        \"\"\"\n",
    "        \n",
    "        df = df[ \n",
    "               (df['CHEMICAL_SUBSTANCE_BNF_DESCR']=='Cetirizine hydrochloride')                              | \n",
    "               (df['CHEMICAL_SUBSTANCE_BNF_DESCR']=='Loratadine')                                            |\n",
    "               (df['CHEMICAL_SUBSTANCE_BNF_DESCR']=='Desloratadine')                                         |\n",
    "               (df['CHEMICAL_SUBSTANCE_BNF_DESCR']=='Fexofenadine hydrochloride')                            |\n",
    "               (df['CHEMICAL_SUBSTANCE_BNF_DESCR']=='Acrivastine')                                           |\n",
    "               (df['CHEMICAL_SUBSTANCE_BNF_DESCR']=='Bilastine')                                             |\n",
    "               (df['CHEMICAL_SUBSTANCE_BNF_DESCR']=='Levocetirizine')                                        |\n",
    "               (df['CHEMICAL_SUBSTANCE_BNF_DESCR']=='Mizolastine')                                           |\n",
    "               (df['CHEMICAL_SUBSTANCE_BNF_DESCR']=='Chlorphenamine maleate')                                & \n",
    "               (df['BNF_DESCRIPTION']!='Chlorphenamine 10mg/1ml solution for injection ampoules')            |\n",
    "               (df['CHEMICAL_SUBSTANCE_BNF_DESCR']=='Promethazine hydrochloride')                            &\n",
    "               (df['BNF_DESCRIPTION']!='Promethazine 25mg/1ml solution for injection ampoules')              &\n",
    "               (df['BNF_DESCRIPTION']!='Phenergan 25mg/1ml solution for injection ampoules')                   \n",
    "             ]\n",
    "      \n",
    "        dfs.append(df)\n",
    "        \n",
    "    df_large = pd.concat(dfs)\n",
    "        \n",
    "    return df_large"
   ]
  },
  {
   "cell_type": "markdown",
   "metadata": {},
   "source": [
    "One dataframe read this way uses a lot less memory (13MB) but another huge problem now exists. "
   ]
  },
  {
   "cell_type": "code",
   "execution_count": 15,
   "metadata": {},
   "outputs": [],
   "source": [
    "Jan_2019_df = LargeCSVsChop(datasets[60:61])"
   ]
  },
  {
   "cell_type": "code",
   "execution_count": 16,
   "metadata": {},
   "outputs": [
    {
     "name": "stdout",
     "output_type": "stream",
     "text": [
      "<class 'pandas.core.frame.DataFrame'>\n",
      "Int64Index: 213217 entries, 551 to 18216332\n",
      "Data columns (total 7 columns):\n",
      " #   Column                        Non-Null Count   Dtype         \n",
      "---  ------                        --------------   -----         \n",
      " 0   YEAR_MONTH                    213217 non-null  datetime64[ns]\n",
      " 1   PCO_NAME                      213217 non-null  object        \n",
      " 2   PRACTICE_NAME                 213217 non-null  object        \n",
      " 3   CHEMICAL_SUBSTANCE_BNF_DESCR  213217 non-null  object        \n",
      " 4   BNF_DESCRIPTION               213217 non-null  object        \n",
      " 5   TOTAL_QUANTITY                213217 non-null  float64       \n",
      " 6   ACTUAL_COST                   213217 non-null  float64       \n",
      "dtypes: datetime64[ns](1), float64(2), object(4)\n",
      "memory usage: 71.4 MB\n"
     ]
    }
   ],
   "source": [
    "Jan_2019_df.info(memory_usage='deep', null_counts=True, verbose=True)"
   ]
  },
  {
   "cell_type": "markdown",
   "metadata": {},
   "source": [
    "# Time"
   ]
  },
  {
   "cell_type": "markdown",
   "metadata": {},
   "source": [
    "The issue of time is partially solved by reading only the features required for the dataframe as demonstrated below. Hoever, bandwidth is another limitation, this work requires pandas to parce a CSV though a URL; low speeds will ensure the process is slow regardless of how (in)efficient this process is for Pandas."
   ]
  },
  {
   "cell_type": "code",
   "execution_count": 17,
   "metadata": {},
   "outputs": [],
   "source": [
    "import time\n",
    "import numpy as np\n",
    "\n",
    "def timefunc(function, arg, repeats = 20):\n",
    "    \n",
    "    alltime = []\n",
    "    \n",
    "    while  repeats > 0:\n",
    "        \n",
    "        \"\"\"\n",
    "        Unless specified the number of repitions will be 20.\n",
    "        \n",
    "        \n",
    "        \"\"\"\n",
    "        \n",
    "        starttime= time.time() # record the start time\n",
    "\n",
    "        result = function(arg) # run the function and store in the variable 'result' in case result is needed.\n",
    "\n",
    "        endtime = time.time() # Record end time.\n",
    "\n",
    "        timetaken = endtime - starttime \n",
    "        \n",
    "        alltime.append(timetaken) \n",
    "        \n",
    "        repeats -=1  \n",
    "        \n",
    "    mean = np.mean(alltime) #Find the mean.\n",
    "    std = np.std(alltime) #Find the standard deviation.\n",
    "    error=std/(len(alltime)**0.5)   #Find the standard error.\n",
    "    \n",
    "    return (mean)"
   ]
  },
  {
   "cell_type": "code",
   "execution_count": 18,
   "metadata": {},
   "outputs": [],
   "source": [
    "def FuncReadCSV(listofdataframes):\n",
    "    \n",
    "    frames = []\n",
    "    for csv in listofdataframes:\n",
    "        df = pd.read_csv(csv)\n",
    "        frames.append(df)\n",
    "        dfs= pd.concat(frames)\n",
    "    return df\n",
    "\n",
    "Without_ncols = timefunc(FuncReadCSV, datasets[60:62], repeats = 1)\n",
    "\n",
    "#Return the mean timetaken to run read a list of CSVs without removing columns or filtering records."
   ]
  },
  {
   "cell_type": "code",
   "execution_count": 25,
   "metadata": {},
   "outputs": [],
   "source": [
    "def LargeCSVsChop_MINI(listofCSV_URLs):\n",
    "    \n",
    "    \"\"\"\n",
    "    The same as LargeCSVsChop without the filtering element. This is to enable like for like\n",
    "    comparisons as much as possible (with the exception of date parsing) as it pertains to time\n",
    "\n",
    "    \"\"\"\n",
    "    dfs = []\n",
    "    for num in range(len(listofCSV_URLs)):\n",
    "\n",
    "        feats = ['YEAR_MONTH', 'PCO_NAME', 'PRACTICE_NAME', 'CHEMICAL_SUBSTANCE_BNF_DESCR', \n",
    "                'BNF_DESCRIPTION', 'TOTAL_QUANTITY', 'ACTUAL_COST']\n",
    "        \n",
    "        custom_date_parser = lambda x: datetime.strptime(x, \"%Y%m\")\n",
    "        \n",
    "        df = pd.read_csv(listofCSV_URLs[num], sep =\",\", usecols = feats, date_parser=custom_date_parser,\n",
    "                                                                         parse_dates=['YEAR_MONTH'])\n",
    "      \n",
    "        dfs.append(df)\n",
    "        \n",
    "    df_large = pd.concat(dfs)\n",
    "        \n",
    "    return df_large\n",
    "\n",
    "\n",
    "\n",
    "With_ncols = timefunc(LargeCSVsChop_MINI, datasets[60:62], repeats = 1)\n",
    "\n",
    "#Return the mean time taken to read one CSV using the LargeCSVsChop_MINI function."
   ]
  },
  {
   "cell_type": "code",
   "execution_count": 31,
   "metadata": {},
   "outputs": [
    {
     "data": {
      "image/png": "[encoded data removed]",
      "text/plain": [
       "<Figure size 720x432 with 1 Axes>"
      ]
     },
     "metadata": {
      "needs_background": "light"
     },
     "output_type": "display_data"
    }
   ],
   "source": [
    "import matplotlib.pyplot as plt\n",
    "%matplotlib inline\n",
    "\n",
    "fig,ax1=plt.subplots(figsize=(10,6))\n",
    "\n",
    "plt.xlabel('CSV Reading Methods')\n",
    "plt.ylabel('Mean Time Taken to Read (minutes)')\n",
    "plt.title('Comparison of Time Taken to Read Two CSVs ')\n",
    "\n",
    "plt.yticks(range(100))\n",
    "            \n",
    "plt.bar(height=Without_ncols/60,x = 'Without Function', color = 'red')\n",
    "plt.bar(height=With_ncols/60,x='LargeCSVsChop_MINI', color = 'blue')\n",
    "plt.savefig('Time taken')\n",
    "\n",
    "#Bearing in mind that the LargeCSVsChop function doesn't just read to dataframe. It also parses the YEAR_MONTH column to"
   ]
  },
  {
   "cell_type": "markdown",
   "metadata": {},
   "source": [
    "### Whole year of Data"
   ]
  },
  {
   "cell_type": "markdown",
   "metadata": {},
   "source": [
    "Each csv is read in individual lines as opposed to one to allow for fleixibility when the kernel needs to be interrupted due to the time taken or any other issue."
   ]
  },
  {
   "cell_type": "code",
   "execution_count": null,
   "metadata": {},
   "outputs": [],
   "source": [
    "Feb_2019_df = LargeCSVsChop(datasets[61:62])"
   ]
  },
  {
   "cell_type": "code",
   "execution_count": null,
   "metadata": {},
   "outputs": [],
   "source": [
    "Mar_2019_df = LargeCSVsChop(datasets[62:63])"
   ]
  },
  {
   "cell_type": "code",
   "execution_count": null,
   "metadata": {},
   "outputs": [],
   "source": [
    "Apr_2019_df = LargeCSVsChop(datasets[63:64])"
   ]
  },
  {
   "cell_type": "code",
   "execution_count": null,
   "metadata": {},
   "outputs": [],
   "source": [
    "May_2019_df = LargeCSVsChop(datasets[64:65])"
   ]
  },
  {
   "cell_type": "code",
   "execution_count": null,
   "metadata": {},
   "outputs": [],
   "source": [
    "Jun_2019_df = LargeCSVsChop(datasets[65:66])"
   ]
  },
  {
   "cell_type": "code",
   "execution_count": null,
   "metadata": {},
   "outputs": [],
   "source": [
    "Jul_2019_df = LargeCSVsChop(datasets[66:67])"
   ]
  },
  {
   "cell_type": "code",
   "execution_count": null,
   "metadata": {},
   "outputs": [],
   "source": [
    "Aug_2019_df = LargeCSVsChop(datasets[67:68])"
   ]
  },
  {
   "cell_type": "code",
   "execution_count": null,
   "metadata": {},
   "outputs": [],
   "source": [
    "Sep_2019_df = LargeCSVsChop(datasets[68:69])"
   ]
  },
  {
   "cell_type": "code",
   "execution_count": null,
   "metadata": {},
   "outputs": [],
   "source": [
    "Oct_2019_df = LargeCSVsChop(datasets[69:70])"
   ]
  },
  {
   "cell_type": "code",
   "execution_count": null,
   "metadata": {},
   "outputs": [],
   "source": [
    "Nov_2019_df = LargeCSVsChop(datasets[70:71])"
   ]
  },
  {
   "cell_type": "code",
   "execution_count": null,
   "metadata": {},
   "outputs": [],
   "source": [
    "Dec_2019_df = LargeCSVsChop(datasets[71:72])"
   ]
  },
  {
   "cell_type": "code",
   "execution_count": null,
   "metadata": {},
   "outputs": [],
   "source": [
    "HayFev_df_2019_list = [Jan_2019_df,Feb_2019_df ,Mar_2019_df,Apr_2019_df,May_2019_df,Jun_2019_df,Jul_2019_df,\n",
    "                       Aug_2019_df,Sep_2019_df,Oct_2019_df,Nov_2019_df,Dec_2019_df ]\n",
    "\n",
    "HayFev_df_2019 = pd.concat(HayFev_df_2019_list)\n",
    "\n",
    "HayFev_df_2019.to_csv('HayFev_df_2019.csv') "
   ]
  },
  {
   "cell_type": "code",
   "execution_count": null,
   "metadata": {},
   "outputs": [],
   "source": [
    "#HayFev_df_2019.info()"
   ]
  },
  {
   "cell_type": "code",
   "execution_count": 29,
   "metadata": {},
   "outputs": [
    {
     "data": {
      "text/plain": [
       "<Figure size 432x288 with 0 Axes>"
      ]
     },
     "metadata": {},
     "output_type": "display_data"
    }
   ],
   "source": [
    "plt.savefig('Time taken')"
   ]
  },
  {
   "cell_type": "markdown",
   "metadata": {},
   "source": [
    "Given the cost of hardware, I am more inclined to look for workarounds such as these to facilitate and speed up personal projects. I hope this has been useful to others and I would love comments and feedback on my code. \n",
    "\n"
   ]
  }
 ],
 "metadata": {
  "kernelspec": {
   "display_name": "Python 3",
   "language": "python",
   "name": "python3"
  },
  "language_info": {
   "codemirror_mode": {
    "name": "ipython",
    "version": 3
   },
   "file_extension": ".py",
   "mimetype": "text/x-python",
   "name": "python",
   "nbconvert_exporter": "python",
   "pygments_lexer": "ipython3",
   "version": "3.7.6"
  }
 },
 "nbformat": 4,
 "nbformat_minor": 4
}
